{
 "cells": [
  {
   "cell_type": "markdown",
   "id": "6364760f",
   "metadata": {},
   "source": [
    "# Avocado Project"
   ]
  },
  {
   "cell_type": "markdown",
   "id": "2ac33055",
   "metadata": {},
   "source": [
    "Project Description:\n",
    "    \n",
    "This data was downloaded from the Hass Avocado Board website in May of 2018 & compiled into a single CSV. \n",
    "The table below represents weekly 2018 retail scan data for National retail volume (units) and price. Retail scan data comes directly from retailers’ cash registers based on actual retail sales of Hass avocados. \n",
    "Starting in 2013, the table below reflects an expanded, multi-outlet retail data set. Multi-outlet reporting includes an aggregation of the following channels: grocery, mass, club, drug, dollar and military. The Average Price (of avocados) in the table reflects a per unit (per avocado) cost, even when multiple units (avocados) are sold in bags. \n",
    "The Product Lookup codes (PLU’s) in the table are only for Hass avocados. Other varieties of avocados (e.g. greenskins) are not included in this table.\n",
    "\n",
    "Some relevant columns in the dataset:\n",
    "    \n",
    "•\tDate - The date of the observation\n",
    "\n",
    "•\tAveragePrice - the average price of a single avocado\n",
    "\n",
    "•\ttype - conventional or organic\n",
    "\n",
    "•\tyear - the year\n",
    "\n",
    "•\tRegion - the city or region of the observation\n",
    "\n",
    "•\tTotal Volume - Total number of avocados sold\n",
    "\n",
    "•\t4046 - Total number of avocados with PLU 4046 sold\n",
    "\n",
    "•\t4225 - Total number of avocados with PLU 4225 sold\n",
    "\n",
    "•\t4770 - Total number of avocados with PLU 4770 sold\n",
    "\n",
    "Inspiration /Label:\n",
    "\n",
    "The dataset can be seen in two angles to find the region and find the average price .\n",
    "\n",
    "Task: One of Classification and other of Regression\n",
    "\n",
    "Do both tasks in the same .ipynb file and submit at single file. \n",
    "\n",
    "Dataset Link-\n",
    "•\thttps://github.com/FlipRoboTechnologies/ML_-Datasets/blob/main/Avocado/avocado.csv.zip\n"
   ]
  },
  {
   "cell_type": "code",
   "execution_count": null,
   "id": "df2bad45",
   "metadata": {},
   "outputs": [],
   "source": []
  },
  {
   "cell_type": "markdown",
   "id": "68abd4ee",
   "metadata": {},
   "source": [
    "*Statement Problem:\n",
    "\n",
    "To predict the region and the Average Price (of avocados) based on different parameters like 'Date, Type, Year, Region, Total Volume etc*."
   ]
  },
  {
   "cell_type": "code",
   "execution_count": 1,
   "id": "76aca2ea",
   "metadata": {},
   "outputs": [
    {
     "name": "stdout",
     "output_type": "stream",
     "text": [
      "Requirement already satisfied: scipy in c:\\users\\pc\\anaconda3\\lib\\site-packages (1.10.1)\n",
      "Requirement already satisfied: numpy<1.27.0,>=1.19.5 in c:\\users\\pc\\anaconda3\\lib\\site-packages (from scipy) (1.24.3)\n"
     ]
    }
   ],
   "source": [
    "### importing libraries to use\n",
    "import numpy as np\n",
    "import pandas as pd\n",
    "import seaborn as sns\n",
    "import matplotlib.pyplot as plt\n",
    "%matplotlib inline\n",
    "from pandas.plotting import scatter_matrix\n",
    "!pip install scipy\n",
    "from sklearn.preprocessing import OrdinalEncoder\n",
    "from sklearn import linear_model\n",
    "from sklearn.linear_model import LinearRegression\n",
    "from sklearn.metrics import mean_absolute_error\n",
    "from sklearn.metrics import mean_squared_error\n",
    "from sklearn.metrics import r2_score\n",
    "\n",
    "from sklearn.model_selection import train_test_split\n",
    "from sklearn import linear_model\n",
    "from sklearn.linear_model import LogisticRegression\n",
    "from sklearn.ensemble import RandomForestClassifier\n",
    "from sklearn.linear_model import Perceptron\n",
    "from sklearn.linear_model import SGDClassifier\n",
    "from sklearn.tree import DecisionTreeClassifier\n",
    "from sklearn.neighbors import KNeighborsClassifier\n",
    "from sklearn.svm import SVC, LinearSVC\n",
    "from sklearn.naive_bayes import GaussianNB\n",
    "from sklearn.metrics import accuracy_score\n",
    "from sklearn.metrics import classification_report, roc_auc_score, roc_curve, auc\n",
    "\n",
    "import warnings\n",
    "warnings.filterwarnings (\"ignore\")\n",
    "\n",
    "import warnings\n",
    "warnings.filterwarnings (\"ignore\")"
   ]
  },
  {
   "cell_type": "code",
   "execution_count": 2,
   "id": "5d8ef52a",
   "metadata": {},
   "outputs": [],
   "source": [
    "#load the dataset\n",
    "link=\"https://github.com/FlipRoboTechnologies/ML_-Datasets/raw/main/Avocado/avocado.csv.zip\"\n",
    "\n",
    "\n",
    "df_avocado=pd.read_csv(link)"
   ]
  },
  {
   "cell_type": "code",
   "execution_count": 3,
   "id": "f6a24158",
   "metadata": {},
   "outputs": [
    {
     "data": {
      "text/html": [
       "<div>\n",
       "<style scoped>\n",
       "    .dataframe tbody tr th:only-of-type {\n",
       "        vertical-align: middle;\n",
       "    }\n",
       "\n",
       "    .dataframe tbody tr th {\n",
       "        vertical-align: top;\n",
       "    }\n",
       "\n",
       "    .dataframe thead th {\n",
       "        text-align: right;\n",
       "    }\n",
       "</style>\n",
       "<table border=\"1\" class=\"dataframe\">\n",
       "  <thead>\n",
       "    <tr style=\"text-align: right;\">\n",
       "      <th></th>\n",
       "      <th>Unnamed: 0</th>\n",
       "      <th>Date</th>\n",
       "      <th>AveragePrice</th>\n",
       "      <th>Total Volume</th>\n",
       "      <th>4046</th>\n",
       "      <th>4225</th>\n",
       "      <th>4770</th>\n",
       "      <th>Total Bags</th>\n",
       "      <th>Small Bags</th>\n",
       "      <th>Large Bags</th>\n",
       "      <th>XLarge Bags</th>\n",
       "      <th>type</th>\n",
       "      <th>year</th>\n",
       "      <th>region</th>\n",
       "    </tr>\n",
       "  </thead>\n",
       "  <tbody>\n",
       "    <tr>\n",
       "      <th>0</th>\n",
       "      <td>0</td>\n",
       "      <td>2015-12-27</td>\n",
       "      <td>1.33</td>\n",
       "      <td>64236.62</td>\n",
       "      <td>1036.74</td>\n",
       "      <td>54454.85</td>\n",
       "      <td>48.16</td>\n",
       "      <td>8696.87</td>\n",
       "      <td>8603.62</td>\n",
       "      <td>93.25</td>\n",
       "      <td>0.0</td>\n",
       "      <td>conventional</td>\n",
       "      <td>2015</td>\n",
       "      <td>Albany</td>\n",
       "    </tr>\n",
       "    <tr>\n",
       "      <th>1</th>\n",
       "      <td>1</td>\n",
       "      <td>2015-12-20</td>\n",
       "      <td>1.35</td>\n",
       "      <td>54876.98</td>\n",
       "      <td>674.28</td>\n",
       "      <td>44638.81</td>\n",
       "      <td>58.33</td>\n",
       "      <td>9505.56</td>\n",
       "      <td>9408.07</td>\n",
       "      <td>97.49</td>\n",
       "      <td>0.0</td>\n",
       "      <td>conventional</td>\n",
       "      <td>2015</td>\n",
       "      <td>Albany</td>\n",
       "    </tr>\n",
       "    <tr>\n",
       "      <th>2</th>\n",
       "      <td>2</td>\n",
       "      <td>2015-12-13</td>\n",
       "      <td>0.93</td>\n",
       "      <td>118220.22</td>\n",
       "      <td>794.70</td>\n",
       "      <td>109149.67</td>\n",
       "      <td>130.50</td>\n",
       "      <td>8145.35</td>\n",
       "      <td>8042.21</td>\n",
       "      <td>103.14</td>\n",
       "      <td>0.0</td>\n",
       "      <td>conventional</td>\n",
       "      <td>2015</td>\n",
       "      <td>Albany</td>\n",
       "    </tr>\n",
       "    <tr>\n",
       "      <th>3</th>\n",
       "      <td>3</td>\n",
       "      <td>2015-12-06</td>\n",
       "      <td>1.08</td>\n",
       "      <td>78992.15</td>\n",
       "      <td>1132.00</td>\n",
       "      <td>71976.41</td>\n",
       "      <td>72.58</td>\n",
       "      <td>5811.16</td>\n",
       "      <td>5677.40</td>\n",
       "      <td>133.76</td>\n",
       "      <td>0.0</td>\n",
       "      <td>conventional</td>\n",
       "      <td>2015</td>\n",
       "      <td>Albany</td>\n",
       "    </tr>\n",
       "    <tr>\n",
       "      <th>4</th>\n",
       "      <td>4</td>\n",
       "      <td>2015-11-29</td>\n",
       "      <td>1.28</td>\n",
       "      <td>51039.60</td>\n",
       "      <td>941.48</td>\n",
       "      <td>43838.39</td>\n",
       "      <td>75.78</td>\n",
       "      <td>6183.95</td>\n",
       "      <td>5986.26</td>\n",
       "      <td>197.69</td>\n",
       "      <td>0.0</td>\n",
       "      <td>conventional</td>\n",
       "      <td>2015</td>\n",
       "      <td>Albany</td>\n",
       "    </tr>\n",
       "    <tr>\n",
       "      <th>...</th>\n",
       "      <td>...</td>\n",
       "      <td>...</td>\n",
       "      <td>...</td>\n",
       "      <td>...</td>\n",
       "      <td>...</td>\n",
       "      <td>...</td>\n",
       "      <td>...</td>\n",
       "      <td>...</td>\n",
       "      <td>...</td>\n",
       "      <td>...</td>\n",
       "      <td>...</td>\n",
       "      <td>...</td>\n",
       "      <td>...</td>\n",
       "      <td>...</td>\n",
       "    </tr>\n",
       "    <tr>\n",
       "      <th>18244</th>\n",
       "      <td>7</td>\n",
       "      <td>2018-02-04</td>\n",
       "      <td>1.63</td>\n",
       "      <td>17074.83</td>\n",
       "      <td>2046.96</td>\n",
       "      <td>1529.20</td>\n",
       "      <td>0.00</td>\n",
       "      <td>13498.67</td>\n",
       "      <td>13066.82</td>\n",
       "      <td>431.85</td>\n",
       "      <td>0.0</td>\n",
       "      <td>organic</td>\n",
       "      <td>2018</td>\n",
       "      <td>WestTexNewMexico</td>\n",
       "    </tr>\n",
       "    <tr>\n",
       "      <th>18245</th>\n",
       "      <td>8</td>\n",
       "      <td>2018-01-28</td>\n",
       "      <td>1.71</td>\n",
       "      <td>13888.04</td>\n",
       "      <td>1191.70</td>\n",
       "      <td>3431.50</td>\n",
       "      <td>0.00</td>\n",
       "      <td>9264.84</td>\n",
       "      <td>8940.04</td>\n",
       "      <td>324.80</td>\n",
       "      <td>0.0</td>\n",
       "      <td>organic</td>\n",
       "      <td>2018</td>\n",
       "      <td>WestTexNewMexico</td>\n",
       "    </tr>\n",
       "    <tr>\n",
       "      <th>18246</th>\n",
       "      <td>9</td>\n",
       "      <td>2018-01-21</td>\n",
       "      <td>1.87</td>\n",
       "      <td>13766.76</td>\n",
       "      <td>1191.92</td>\n",
       "      <td>2452.79</td>\n",
       "      <td>727.94</td>\n",
       "      <td>9394.11</td>\n",
       "      <td>9351.80</td>\n",
       "      <td>42.31</td>\n",
       "      <td>0.0</td>\n",
       "      <td>organic</td>\n",
       "      <td>2018</td>\n",
       "      <td>WestTexNewMexico</td>\n",
       "    </tr>\n",
       "    <tr>\n",
       "      <th>18247</th>\n",
       "      <td>10</td>\n",
       "      <td>2018-01-14</td>\n",
       "      <td>1.93</td>\n",
       "      <td>16205.22</td>\n",
       "      <td>1527.63</td>\n",
       "      <td>2981.04</td>\n",
       "      <td>727.01</td>\n",
       "      <td>10969.54</td>\n",
       "      <td>10919.54</td>\n",
       "      <td>50.00</td>\n",
       "      <td>0.0</td>\n",
       "      <td>organic</td>\n",
       "      <td>2018</td>\n",
       "      <td>WestTexNewMexico</td>\n",
       "    </tr>\n",
       "    <tr>\n",
       "      <th>18248</th>\n",
       "      <td>11</td>\n",
       "      <td>2018-01-07</td>\n",
       "      <td>1.62</td>\n",
       "      <td>17489.58</td>\n",
       "      <td>2894.77</td>\n",
       "      <td>2356.13</td>\n",
       "      <td>224.53</td>\n",
       "      <td>12014.15</td>\n",
       "      <td>11988.14</td>\n",
       "      <td>26.01</td>\n",
       "      <td>0.0</td>\n",
       "      <td>organic</td>\n",
       "      <td>2018</td>\n",
       "      <td>WestTexNewMexico</td>\n",
       "    </tr>\n",
       "  </tbody>\n",
       "</table>\n",
       "<p>18249 rows × 14 columns</p>\n",
       "</div>"
      ],
      "text/plain": [
       "       Unnamed: 0        Date  AveragePrice  Total Volume     4046       4225  \\\n",
       "0               0  2015-12-27          1.33      64236.62  1036.74   54454.85   \n",
       "1               1  2015-12-20          1.35      54876.98   674.28   44638.81   \n",
       "2               2  2015-12-13          0.93     118220.22   794.70  109149.67   \n",
       "3               3  2015-12-06          1.08      78992.15  1132.00   71976.41   \n",
       "4               4  2015-11-29          1.28      51039.60   941.48   43838.39   \n",
       "...           ...         ...           ...           ...      ...        ...   \n",
       "18244           7  2018-02-04          1.63      17074.83  2046.96    1529.20   \n",
       "18245           8  2018-01-28          1.71      13888.04  1191.70    3431.50   \n",
       "18246           9  2018-01-21          1.87      13766.76  1191.92    2452.79   \n",
       "18247          10  2018-01-14          1.93      16205.22  1527.63    2981.04   \n",
       "18248          11  2018-01-07          1.62      17489.58  2894.77    2356.13   \n",
       "\n",
       "         4770  Total Bags  Small Bags  Large Bags  XLarge Bags          type  \\\n",
       "0       48.16     8696.87     8603.62       93.25          0.0  conventional   \n",
       "1       58.33     9505.56     9408.07       97.49          0.0  conventional   \n",
       "2      130.50     8145.35     8042.21      103.14          0.0  conventional   \n",
       "3       72.58     5811.16     5677.40      133.76          0.0  conventional   \n",
       "4       75.78     6183.95     5986.26      197.69          0.0  conventional   \n",
       "...       ...         ...         ...         ...          ...           ...   \n",
       "18244    0.00    13498.67    13066.82      431.85          0.0       organic   \n",
       "18245    0.00     9264.84     8940.04      324.80          0.0       organic   \n",
       "18246  727.94     9394.11     9351.80       42.31          0.0       organic   \n",
       "18247  727.01    10969.54    10919.54       50.00          0.0       organic   \n",
       "18248  224.53    12014.15    11988.14       26.01          0.0       organic   \n",
       "\n",
       "       year            region  \n",
       "0      2015            Albany  \n",
       "1      2015            Albany  \n",
       "2      2015            Albany  \n",
       "3      2015            Albany  \n",
       "4      2015            Albany  \n",
       "...     ...               ...  \n",
       "18244  2018  WestTexNewMexico  \n",
       "18245  2018  WestTexNewMexico  \n",
       "18246  2018  WestTexNewMexico  \n",
       "18247  2018  WestTexNewMexico  \n",
       "18248  2018  WestTexNewMexico  \n",
       "\n",
       "[18249 rows x 14 columns]"
      ]
     },
     "execution_count": 3,
     "metadata": {},
     "output_type": "execute_result"
    }
   ],
   "source": [
    "df_avocado"
   ]
  },
  {
   "cell_type": "code",
   "execution_count": 4,
   "id": "d7e7ab78",
   "metadata": {},
   "outputs": [
    {
     "data": {
      "text/plain": [
       "Index(['Unnamed: 0', 'Date', 'AveragePrice', 'Total Volume', '4046', '4225',\n",
       "       '4770', 'Total Bags', 'Small Bags', 'Large Bags', 'XLarge Bags', 'type',\n",
       "       'year', 'region'],\n",
       "      dtype='object')"
      ]
     },
     "execution_count": 4,
     "metadata": {},
     "output_type": "execute_result"
    }
   ],
   "source": [
    "#Columns present in the dataset \n",
    "df_avocado.columns"
   ]
  },
  {
   "cell_type": "code",
   "execution_count": 5,
   "id": "c0d4e236",
   "metadata": {},
   "outputs": [
    {
     "data": {
      "text/plain": [
       "(18249, 14)"
      ]
     },
     "execution_count": 5,
     "metadata": {},
     "output_type": "execute_result"
    }
   ],
   "source": [
    "#shape of the Data\n",
    "df_avocado.shape"
   ]
  },
  {
   "cell_type": "markdown",
   "id": "fd1d389c",
   "metadata": {},
   "source": [
    "Observation:\n",
    "\n",
    "This dataset contain the information of Hass avocados downloaded from the Hass Avocado Board website in May of 2018 & compiled into a single CSV, the data shows the actual retail sales of Hass avocados  since 2013. The datas are numerical, categorical and continous datas. There are 18249 samples in the dataset with 14 columns of which 2 of it are to be considered as the target variables ('region and the Average Price')."
   ]
  },
  {
   "cell_type": "code",
   "execution_count": 6,
   "id": "c347c772",
   "metadata": {},
   "outputs": [
    {
     "name": "stdout",
     "output_type": "stream",
     "text": [
      "<class 'pandas.core.frame.DataFrame'>\n",
      "RangeIndex: 18249 entries, 0 to 18248\n",
      "Data columns (total 14 columns):\n",
      " #   Column        Non-Null Count  Dtype  \n",
      "---  ------        --------------  -----  \n",
      " 0   Unnamed: 0    18249 non-null  int64  \n",
      " 1   Date          18249 non-null  object \n",
      " 2   AveragePrice  18249 non-null  float64\n",
      " 3   Total Volume  18249 non-null  float64\n",
      " 4   4046          18249 non-null  float64\n",
      " 5   4225          18249 non-null  float64\n",
      " 6   4770          18249 non-null  float64\n",
      " 7   Total Bags    18249 non-null  float64\n",
      " 8   Small Bags    18249 non-null  float64\n",
      " 9   Large Bags    18249 non-null  float64\n",
      " 10  XLarge Bags   18249 non-null  float64\n",
      " 11  type          18249 non-null  object \n",
      " 12  year          18249 non-null  int64  \n",
      " 13  region        18249 non-null  object \n",
      "dtypes: float64(9), int64(2), object(3)\n",
      "memory usage: 1.9+ MB\n"
     ]
    }
   ],
   "source": [
    "# Checking the column information\n",
    "df_avocado.info()"
   ]
  },
  {
   "cell_type": "markdown",
   "id": "1ef7a795",
   "metadata": {},
   "source": [
    "Observation:\n",
    "\n",
    "The columns have 3 different data types made up of 9 float Dtypes, 3 object dtypes and 2 integers Dtypes. \n",
    "\n",
    "No missing information."
   ]
  },
  {
   "cell_type": "code",
   "execution_count": 7,
   "id": "fb81c99d",
   "metadata": {},
   "outputs": [
    {
     "name": "stdout",
     "output_type": "stream",
     "text": [
      "Unnamed: 0      0\n",
      "Date            0\n",
      "AveragePrice    0\n",
      "Total Volume    0\n",
      "4046            0\n",
      "4225            0\n",
      "4770            0\n",
      "Total Bags      0\n",
      "Small Bags      0\n",
      "Large Bags      0\n",
      "XLarge Bags     0\n",
      "type            0\n",
      "year            0\n",
      "region          0\n",
      "dtype: int64\n"
     ]
    }
   ],
   "source": [
    "# Check for missing values\n",
    "print(df_avocado.isnull().sum())"
   ]
  },
  {
   "cell_type": "markdown",
   "id": "fcaf3be6",
   "metadata": {},
   "source": [
    "There are no Null values in the dataset"
   ]
  },
  {
   "cell_type": "code",
   "execution_count": 8,
   "id": "205f45b8",
   "metadata": {},
   "outputs": [
    {
     "data": {
      "text/plain": [
       "0"
      ]
     },
     "execution_count": 8,
     "metadata": {},
     "output_type": "execute_result"
    }
   ],
   "source": [
    "# Check for duplicates\n",
    "df_avocado.duplicated().sum()"
   ]
  },
  {
   "cell_type": "markdown",
   "id": "f3f8b975",
   "metadata": {},
   "source": [
    "There are no duplicate values in the dataset"
   ]
  },
  {
   "cell_type": "code",
   "execution_count": 9,
   "id": "7845d1bf",
   "metadata": {},
   "outputs": [
    {
     "data": {
      "text/html": [
       "<div>\n",
       "<style scoped>\n",
       "    .dataframe tbody tr th:only-of-type {\n",
       "        vertical-align: middle;\n",
       "    }\n",
       "\n",
       "    .dataframe tbody tr th {\n",
       "        vertical-align: top;\n",
       "    }\n",
       "\n",
       "    .dataframe thead th {\n",
       "        text-align: right;\n",
       "    }\n",
       "</style>\n",
       "<table border=\"1\" class=\"dataframe\">\n",
       "  <thead>\n",
       "    <tr style=\"text-align: right;\">\n",
       "      <th></th>\n",
       "      <th>Unique Values</th>\n",
       "    </tr>\n",
       "  </thead>\n",
       "  <tbody>\n",
       "    <tr>\n",
       "      <th>Unnamed: 0</th>\n",
       "      <td>53</td>\n",
       "    </tr>\n",
       "    <tr>\n",
       "      <th>Date</th>\n",
       "      <td>169</td>\n",
       "    </tr>\n",
       "    <tr>\n",
       "      <th>AveragePrice</th>\n",
       "      <td>259</td>\n",
       "    </tr>\n",
       "    <tr>\n",
       "      <th>Total Volume</th>\n",
       "      <td>18237</td>\n",
       "    </tr>\n",
       "    <tr>\n",
       "      <th>4046</th>\n",
       "      <td>17702</td>\n",
       "    </tr>\n",
       "    <tr>\n",
       "      <th>4225</th>\n",
       "      <td>18103</td>\n",
       "    </tr>\n",
       "    <tr>\n",
       "      <th>4770</th>\n",
       "      <td>12071</td>\n",
       "    </tr>\n",
       "    <tr>\n",
       "      <th>Total Bags</th>\n",
       "      <td>18097</td>\n",
       "    </tr>\n",
       "    <tr>\n",
       "      <th>Small Bags</th>\n",
       "      <td>17321</td>\n",
       "    </tr>\n",
       "    <tr>\n",
       "      <th>Large Bags</th>\n",
       "      <td>15082</td>\n",
       "    </tr>\n",
       "    <tr>\n",
       "      <th>XLarge Bags</th>\n",
       "      <td>5588</td>\n",
       "    </tr>\n",
       "    <tr>\n",
       "      <th>type</th>\n",
       "      <td>2</td>\n",
       "    </tr>\n",
       "    <tr>\n",
       "      <th>year</th>\n",
       "      <td>4</td>\n",
       "    </tr>\n",
       "    <tr>\n",
       "      <th>region</th>\n",
       "      <td>54</td>\n",
       "    </tr>\n",
       "  </tbody>\n",
       "</table>\n",
       "</div>"
      ],
      "text/plain": [
       "              Unique Values\n",
       "Unnamed: 0               53\n",
       "Date                    169\n",
       "AveragePrice            259\n",
       "Total Volume          18237\n",
       "4046                  17702\n",
       "4225                  18103\n",
       "4770                  12071\n",
       "Total Bags            18097\n",
       "Small Bags            17321\n",
       "Large Bags            15082\n",
       "XLarge Bags            5588\n",
       "type                      2\n",
       "year                      4\n",
       "region                   54"
      ]
     },
     "execution_count": 9,
     "metadata": {},
     "output_type": "execute_result"
    }
   ],
   "source": [
    "#Unique values in each of the colums\n",
    "\n",
    "df_avocado.nunique().to_frame(\"Unique Values\")"
   ]
  },
  {
   "cell_type": "code",
   "execution_count": 10,
   "id": "1dd5aa98",
   "metadata": {},
   "outputs": [
    {
     "data": {
      "image/png": "[encoded data removed]",
      "text/plain": [
       "<Figure size 640x480 with 1 Axes>"
      ]
     },
     "metadata": {},
     "output_type": "display_data"
    },
    {
     "data": {
      "image/png": "[encoded data removed]",
      "text/plain": [
       "<Figure size 1200x800 with 2 Axes>"
      ]
     },
     "metadata": {},
     "output_type": "display_data"
    }
   ],
   "source": [
    "# Plot the distribution of the target variable (W - Wins)\n",
    "sns.histplot(df_avocado['AveragePrice'], kde=True)\n",
    "plt.title('Distribution of Average Price')\n",
    "plt.show()\n",
    "\n",
    "# Correlation matrix\n",
    "corr = df_avocado.corr()\n",
    "plt.figure(figsize=(12, 8))\n",
    "sns.heatmap(corr, annot=True, cmap='coolwarm')\n",
    "plt.title('Correlation Matrix')\n",
    "plt.show()"
   ]
  },
  {
   "cell_type": "code",
   "execution_count": 11,
   "id": "1799231f",
   "metadata": {},
   "outputs": [
    {
     "data": {
      "text/html": [
       "<div>\n",
       "<style scoped>\n",
       "    .dataframe tbody tr th:only-of-type {\n",
       "        vertical-align: middle;\n",
       "    }\n",
       "\n",
       "    .dataframe tbody tr th {\n",
       "        vertical-align: top;\n",
       "    }\n",
       "\n",
       "    .dataframe thead th {\n",
       "        text-align: right;\n",
       "    }\n",
       "</style>\n",
       "<table border=\"1\" class=\"dataframe\">\n",
       "  <thead>\n",
       "    <tr style=\"text-align: right;\">\n",
       "      <th></th>\n",
       "      <th>Unnamed: 0</th>\n",
       "      <th>AveragePrice</th>\n",
       "      <th>Total Volume</th>\n",
       "      <th>4046</th>\n",
       "      <th>4225</th>\n",
       "      <th>4770</th>\n",
       "      <th>Total Bags</th>\n",
       "      <th>Small Bags</th>\n",
       "      <th>Large Bags</th>\n",
       "      <th>XLarge Bags</th>\n",
       "      <th>year</th>\n",
       "    </tr>\n",
       "  </thead>\n",
       "  <tbody>\n",
       "    <tr>\n",
       "      <th>Unnamed: 0</th>\n",
       "      <td>1.000000</td>\n",
       "      <td>-0.133008</td>\n",
       "      <td>0.014035</td>\n",
       "      <td>0.017628</td>\n",
       "      <td>0.019829</td>\n",
       "      <td>0.041752</td>\n",
       "      <td>-0.002219</td>\n",
       "      <td>0.000347</td>\n",
       "      <td>-0.009196</td>\n",
       "      <td>-0.011546</td>\n",
       "      <td>-0.171667</td>\n",
       "    </tr>\n",
       "    <tr>\n",
       "      <th>AveragePrice</th>\n",
       "      <td>-0.133008</td>\n",
       "      <td>1.000000</td>\n",
       "      <td>-0.192752</td>\n",
       "      <td>-0.208317</td>\n",
       "      <td>-0.172928</td>\n",
       "      <td>-0.179446</td>\n",
       "      <td>-0.177088</td>\n",
       "      <td>-0.174730</td>\n",
       "      <td>-0.172940</td>\n",
       "      <td>-0.117592</td>\n",
       "      <td>0.093197</td>\n",
       "    </tr>\n",
       "    <tr>\n",
       "      <th>Total Volume</th>\n",
       "      <td>0.014035</td>\n",
       "      <td>-0.192752</td>\n",
       "      <td>1.000000</td>\n",
       "      <td>0.977863</td>\n",
       "      <td>0.974181</td>\n",
       "      <td>0.872202</td>\n",
       "      <td>0.963047</td>\n",
       "      <td>0.967238</td>\n",
       "      <td>0.880640</td>\n",
       "      <td>0.747157</td>\n",
       "      <td>0.017193</td>\n",
       "    </tr>\n",
       "    <tr>\n",
       "      <th>4046</th>\n",
       "      <td>0.017628</td>\n",
       "      <td>-0.208317</td>\n",
       "      <td>0.977863</td>\n",
       "      <td>1.000000</td>\n",
       "      <td>0.926110</td>\n",
       "      <td>0.833389</td>\n",
       "      <td>0.920057</td>\n",
       "      <td>0.925280</td>\n",
       "      <td>0.838645</td>\n",
       "      <td>0.699377</td>\n",
       "      <td>0.003353</td>\n",
       "    </tr>\n",
       "    <tr>\n",
       "      <th>4225</th>\n",
       "      <td>0.019829</td>\n",
       "      <td>-0.172928</td>\n",
       "      <td>0.974181</td>\n",
       "      <td>0.926110</td>\n",
       "      <td>1.000000</td>\n",
       "      <td>0.887855</td>\n",
       "      <td>0.905787</td>\n",
       "      <td>0.916031</td>\n",
       "      <td>0.810015</td>\n",
       "      <td>0.688809</td>\n",
       "      <td>-0.009559</td>\n",
       "    </tr>\n",
       "    <tr>\n",
       "      <th>4770</th>\n",
       "      <td>0.041752</td>\n",
       "      <td>-0.179446</td>\n",
       "      <td>0.872202</td>\n",
       "      <td>0.833389</td>\n",
       "      <td>0.887855</td>\n",
       "      <td>1.000000</td>\n",
       "      <td>0.792314</td>\n",
       "      <td>0.802733</td>\n",
       "      <td>0.698471</td>\n",
       "      <td>0.679861</td>\n",
       "      <td>-0.036531</td>\n",
       "    </tr>\n",
       "    <tr>\n",
       "      <th>Total Bags</th>\n",
       "      <td>-0.002219</td>\n",
       "      <td>-0.177088</td>\n",
       "      <td>0.963047</td>\n",
       "      <td>0.920057</td>\n",
       "      <td>0.905787</td>\n",
       "      <td>0.792314</td>\n",
       "      <td>1.000000</td>\n",
       "      <td>0.994335</td>\n",
       "      <td>0.943009</td>\n",
       "      <td>0.804233</td>\n",
       "      <td>0.071552</td>\n",
       "    </tr>\n",
       "    <tr>\n",
       "      <th>Small Bags</th>\n",
       "      <td>0.000347</td>\n",
       "      <td>-0.174730</td>\n",
       "      <td>0.967238</td>\n",
       "      <td>0.925280</td>\n",
       "      <td>0.916031</td>\n",
       "      <td>0.802733</td>\n",
       "      <td>0.994335</td>\n",
       "      <td>1.000000</td>\n",
       "      <td>0.902589</td>\n",
       "      <td>0.806845</td>\n",
       "      <td>0.063915</td>\n",
       "    </tr>\n",
       "    <tr>\n",
       "      <th>Large Bags</th>\n",
       "      <td>-0.009196</td>\n",
       "      <td>-0.172940</td>\n",
       "      <td>0.880640</td>\n",
       "      <td>0.838645</td>\n",
       "      <td>0.810015</td>\n",
       "      <td>0.698471</td>\n",
       "      <td>0.943009</td>\n",
       "      <td>0.902589</td>\n",
       "      <td>1.000000</td>\n",
       "      <td>0.710858</td>\n",
       "      <td>0.087891</td>\n",
       "    </tr>\n",
       "    <tr>\n",
       "      <th>XLarge Bags</th>\n",
       "      <td>-0.011546</td>\n",
       "      <td>-0.117592</td>\n",
       "      <td>0.747157</td>\n",
       "      <td>0.699377</td>\n",
       "      <td>0.688809</td>\n",
       "      <td>0.679861</td>\n",
       "      <td>0.804233</td>\n",
       "      <td>0.806845</td>\n",
       "      <td>0.710858</td>\n",
       "      <td>1.000000</td>\n",
       "      <td>0.081033</td>\n",
       "    </tr>\n",
       "    <tr>\n",
       "      <th>year</th>\n",
       "      <td>-0.171667</td>\n",
       "      <td>0.093197</td>\n",
       "      <td>0.017193</td>\n",
       "      <td>0.003353</td>\n",
       "      <td>-0.009559</td>\n",
       "      <td>-0.036531</td>\n",
       "      <td>0.071552</td>\n",
       "      <td>0.063915</td>\n",
       "      <td>0.087891</td>\n",
       "      <td>0.081033</td>\n",
       "      <td>1.000000</td>\n",
       "    </tr>\n",
       "  </tbody>\n",
       "</table>\n",
       "</div>"
      ],
      "text/plain": [
       "              Unnamed: 0  AveragePrice  Total Volume      4046      4225  \\\n",
       "Unnamed: 0      1.000000     -0.133008      0.014035  0.017628  0.019829   \n",
       "AveragePrice   -0.133008      1.000000     -0.192752 -0.208317 -0.172928   \n",
       "Total Volume    0.014035     -0.192752      1.000000  0.977863  0.974181   \n",
       "4046            0.017628     -0.208317      0.977863  1.000000  0.926110   \n",
       "4225            0.019829     -0.172928      0.974181  0.926110  1.000000   \n",
       "4770            0.041752     -0.179446      0.872202  0.833389  0.887855   \n",
       "Total Bags     -0.002219     -0.177088      0.963047  0.920057  0.905787   \n",
       "Small Bags      0.000347     -0.174730      0.967238  0.925280  0.916031   \n",
       "Large Bags     -0.009196     -0.172940      0.880640  0.838645  0.810015   \n",
       "XLarge Bags    -0.011546     -0.117592      0.747157  0.699377  0.688809   \n",
       "year           -0.171667      0.093197      0.017193  0.003353 -0.009559   \n",
       "\n",
       "                  4770  Total Bags  Small Bags  Large Bags  XLarge Bags  \\\n",
       "Unnamed: 0    0.041752   -0.002219    0.000347   -0.009196    -0.011546   \n",
       "AveragePrice -0.179446   -0.177088   -0.174730   -0.172940    -0.117592   \n",
       "Total Volume  0.872202    0.963047    0.967238    0.880640     0.747157   \n",
       "4046          0.833389    0.920057    0.925280    0.838645     0.699377   \n",
       "4225          0.887855    0.905787    0.916031    0.810015     0.688809   \n",
       "4770          1.000000    0.792314    0.802733    0.698471     0.679861   \n",
       "Total Bags    0.792314    1.000000    0.994335    0.943009     0.804233   \n",
       "Small Bags    0.802733    0.994335    1.000000    0.902589     0.806845   \n",
       "Large Bags    0.698471    0.943009    0.902589    1.000000     0.710858   \n",
       "XLarge Bags   0.679861    0.804233    0.806845    0.710858     1.000000   \n",
       "year         -0.036531    0.071552    0.063915    0.087891     0.081033   \n",
       "\n",
       "                  year  \n",
       "Unnamed: 0   -0.171667  \n",
       "AveragePrice  0.093197  \n",
       "Total Volume  0.017193  \n",
       "4046          0.003353  \n",
       "4225         -0.009559  \n",
       "4770         -0.036531  \n",
       "Total Bags    0.071552  \n",
       "Small Bags    0.063915  \n",
       "Large Bags    0.087891  \n",
       "XLarge Bags   0.081033  \n",
       "year          1.000000  "
      ]
     },
     "execution_count": 11,
     "metadata": {},
     "output_type": "execute_result"
    }
   ],
   "source": [
    "cor_avo =df_avocado.corr()\n",
    "cor_avo"
   ]
  },
  {
   "cell_type": "markdown",
   "id": "a7ae5efd",
   "metadata": {},
   "source": [
    "Average price shows a negative correlation with the volume of the avocadoes sold in the various form."
   ]
  },
  {
   "cell_type": "code",
   "execution_count": 12,
   "id": "60a70650",
   "metadata": {},
   "outputs": [
    {
     "data": {
      "text/plain": [
       "Unnamed: 0       0.108334\n",
       "AveragePrice     0.580303\n",
       "Total Volume     9.007687\n",
       "4046             8.648220\n",
       "4225             8.942466\n",
       "4770            10.159396\n",
       "Total Bags       9.756072\n",
       "Small Bags       9.540660\n",
       "Large Bags       9.796455\n",
       "XLarge Bags     13.139751\n",
       "year             0.215339\n",
       "dtype: float64"
      ]
     },
     "execution_count": 12,
     "metadata": {},
     "output_type": "execute_result"
    }
   ],
   "source": [
    "#Data Skewness\n",
    "df_avocado.skew()"
   ]
  },
  {
   "cell_type": "code",
   "execution_count": 13,
   "id": "4385947f",
   "metadata": {},
   "outputs": [
    {
     "name": "stdout",
     "output_type": "stream",
     "text": [
      "conventional    9126\n",
      "organic         9123\n",
      "Name: type, dtype: int64\n"
     ]
    },
    {
     "data": {
      "text/plain": [
       "<Axes: xlabel='type', ylabel='count'>"
      ]
     },
     "execution_count": 13,
     "metadata": {},
     "output_type": "execute_result"
    },
    {
     "data": {
      "image/png": "[encoded data removed]",
      "text/plain": [
       "<Figure size 640x480 with 1 Axes>"
      ]
     },
     "metadata": {},
     "output_type": "display_data"
    }
   ],
   "source": [
    "#Counts by Type of Avocadoes\n",
    "print(df_avocado['type'].value_counts())\n",
    "sns.countplot(x ='type', data=df_avocado)"
   ]
  },
  {
   "cell_type": "markdown",
   "id": "4070e5cb",
   "metadata": {},
   "source": [
    "The type of Avocadoes consumed by people doesn't really varies, both the conventional and organic were consumed in same quantity."
   ]
  },
  {
   "cell_type": "code",
   "execution_count": 14,
   "id": "cde64f42",
   "metadata": {},
   "outputs": [
    {
     "data": {
      "text/plain": [
       "Text(0.5, 1.0, 'Average Price of Avocado According to Region')"
      ]
     },
     "execution_count": 14,
     "metadata": {},
     "output_type": "execute_result"
    },
    {
     "data": {
      "image/png": "[encoded data removed]",
      "text/plain": [
       "<Figure size 2400x1000 with 1 Axes>"
      ]
     },
     "metadata": {},
     "output_type": "display_data"
    }
   ],
   "source": [
    "##Plot average price against region\n",
    "region_list=list(df_avocado.region.unique())\n",
    "average_price=[]\n",
    "\n",
    "for i in region_list:\n",
    "    x=df_avocado[df_avocado.region==i]\n",
    "    region_average=sum(x.AveragePrice)/len(x)\n",
    "    average_price.append(region_average)\n",
    "\n",
    "df1=pd.DataFrame({'region_list':region_list,'average_price':average_price})\n",
    "new_index=df1.average_price.sort_values(ascending=False).index.values\n",
    "sorted_data=df1.reindex(new_index)\n",
    "\n",
    "plt.figure(figsize=(24,10))\n",
    "ax=sns.barplot(x=sorted_data.region_list,y=sorted_data.average_price)\n",
    "\n",
    "plt.xticks(rotation=90)\n",
    "plt.xlabel('Region')\n",
    "plt.ylabel('Average Price')\n",
    "plt.title('Average Price of Avocado According to Region')"
   ]
  },
  {
   "cell_type": "markdown",
   "id": "add7e2ff",
   "metadata": {},
   "source": [
    "The above shows average price across the region: "
   ]
  },
  {
   "cell_type": "code",
   "execution_count": 15,
   "id": "07675246",
   "metadata": {},
   "outputs": [
    {
     "data": {
      "text/plain": [
       "Text(0.5, 1.0, 'Average of Total Volume According to Region')"
      ]
     },
     "execution_count": 15,
     "metadata": {},
     "output_type": "execute_result"
    },
    {
     "data": {
      "image/png": "[encoded data removed]",
      "text/plain": [
       "<Figure size 2200x1000 with 1 Axes>"
      ]
     },
     "metadata": {},
     "output_type": "display_data"
    }
   ],
   "source": [
    "##Plot Total Volume against region\n",
    "filter1=df_avocado.region!='TotalUS'\n",
    "df1=df_avocado[filter1]\n",
    "\n",
    "region_list=list(df1.region.unique())\n",
    "average_total_volume=[]\n",
    "\n",
    "for i in region_list:\n",
    "    x=df1[df1.region==i]\n",
    "    average_total_volume.append(sum(x['Total Volume'])/len(x))\n",
    "df3=pd.DataFrame({'region_list':region_list,'average_total_volume':average_total_volume})\n",
    "\n",
    "new_index=df3.average_total_volume.sort_values(ascending=False).index.values\n",
    "sorted_data1=df3.reindex(new_index)\n",
    "\n",
    "plt.figure(figsize=(22,10))\n",
    "ax=sns.barplot(x=sorted_data1.region_list,y=sorted_data1.average_total_volume)\n",
    "\n",
    "plt.xticks(rotation=90)\n",
    "plt.xlabel('Region')\n",
    "plt.ylabel('Average of Total Volume')\n",
    "plt.title('Average of Total Volume According to Region')"
   ]
  },
  {
   "cell_type": "markdown",
   "id": "3783b201",
   "metadata": {},
   "source": [
    "The diagrame shows the average total volume of Avocadoes consumed in the regions"
   ]
  },
  {
   "cell_type": "code",
   "execution_count": 16,
   "id": "a8e2e5a5",
   "metadata": {},
   "outputs": [],
   "source": [
    "# Convert the date column to datetime format\n",
    "df_avocado['Date'] = pd.to_datetime(df_avocado['Date'])\n",
    "\n",
    "# Extract year and month from the Date colum\n",
    "df_avocado['year'] = df_avocado['Date'].dt.year\n",
    "df_avocado['month'] = df_avocado['Date'].dt.month\n"
   ]
  },
  {
   "cell_type": "code",
   "execution_count": 17,
   "id": "680e4f6d",
   "metadata": {},
   "outputs": [],
   "source": [
    "# Encode the 'type' column for classification\n",
    "df_avocado['type'] = df_avocado['type'].map({'conventional': 0, 'organic': 1})\n",
    "\n"
   ]
  },
  {
   "cell_type": "code",
   "execution_count": 18,
   "id": "91809312",
   "metadata": {},
   "outputs": [],
   "source": [
    "# Drop unnecessary columns\n",
    "df_avocado.drop(['Unnamed: 0', 'Date'], axis=1, inplace=True)\n",
    "\n"
   ]
  },
  {
   "cell_type": "code",
   "execution_count": 19,
   "id": "a00f9ebd",
   "metadata": {},
   "outputs": [],
   "source": [
    "from sklearn.preprocessing import LabelEncoder"
   ]
  },
  {
   "cell_type": "code",
   "execution_count": 20,
   "id": "58415a03",
   "metadata": {},
   "outputs": [],
   "source": [
    "region= LabelEncoder()"
   ]
  },
  {
   "cell_type": "code",
   "execution_count": 21,
   "id": "d983fb21",
   "metadata": {},
   "outputs": [],
   "source": [
    "df_avocado['region'] =region.fit_transform(df_avocado['region'])"
   ]
  },
  {
   "cell_type": "code",
   "execution_count": 22,
   "id": "b040fd4c",
   "metadata": {},
   "outputs": [],
   "source": [
    "# Renaming columns name\n",
    "df_avocado.rename(columns={'4046':'Plu_4046',\n",
    "           '4225':'Plu_4225',\n",
    "           '4770':'Plu_4770'},inplace=True)"
   ]
  },
  {
   "cell_type": "code",
   "execution_count": 23,
   "id": "f418733a",
   "metadata": {},
   "outputs": [
    {
     "data": {
      "text/html": [
       "<div>\n",
       "<style scoped>\n",
       "    .dataframe tbody tr th:only-of-type {\n",
       "        vertical-align: middle;\n",
       "    }\n",
       "\n",
       "    .dataframe tbody tr th {\n",
       "        vertical-align: top;\n",
       "    }\n",
       "\n",
       "    .dataframe thead th {\n",
       "        text-align: right;\n",
       "    }\n",
       "</style>\n",
       "<table border=\"1\" class=\"dataframe\">\n",
       "  <thead>\n",
       "    <tr style=\"text-align: right;\">\n",
       "      <th></th>\n",
       "      <th>AveragePrice</th>\n",
       "      <th>Total Volume</th>\n",
       "      <th>Plu_4046</th>\n",
       "      <th>Plu_4225</th>\n",
       "      <th>Plu_4770</th>\n",
       "      <th>Total Bags</th>\n",
       "      <th>Small Bags</th>\n",
       "      <th>Large Bags</th>\n",
       "      <th>XLarge Bags</th>\n",
       "      <th>type</th>\n",
       "      <th>year</th>\n",
       "      <th>region</th>\n",
       "      <th>month</th>\n",
       "    </tr>\n",
       "  </thead>\n",
       "  <tbody>\n",
       "    <tr>\n",
       "      <th>0</th>\n",
       "      <td>1.33</td>\n",
       "      <td>64236.62</td>\n",
       "      <td>1036.74</td>\n",
       "      <td>54454.85</td>\n",
       "      <td>48.16</td>\n",
       "      <td>8696.87</td>\n",
       "      <td>8603.62</td>\n",
       "      <td>93.25</td>\n",
       "      <td>0.0</td>\n",
       "      <td>0</td>\n",
       "      <td>2015</td>\n",
       "      <td>0</td>\n",
       "      <td>12</td>\n",
       "    </tr>\n",
       "    <tr>\n",
       "      <th>1</th>\n",
       "      <td>1.35</td>\n",
       "      <td>54876.98</td>\n",
       "      <td>674.28</td>\n",
       "      <td>44638.81</td>\n",
       "      <td>58.33</td>\n",
       "      <td>9505.56</td>\n",
       "      <td>9408.07</td>\n",
       "      <td>97.49</td>\n",
       "      <td>0.0</td>\n",
       "      <td>0</td>\n",
       "      <td>2015</td>\n",
       "      <td>0</td>\n",
       "      <td>12</td>\n",
       "    </tr>\n",
       "    <tr>\n",
       "      <th>2</th>\n",
       "      <td>0.93</td>\n",
       "      <td>118220.22</td>\n",
       "      <td>794.70</td>\n",
       "      <td>109149.67</td>\n",
       "      <td>130.50</td>\n",
       "      <td>8145.35</td>\n",
       "      <td>8042.21</td>\n",
       "      <td>103.14</td>\n",
       "      <td>0.0</td>\n",
       "      <td>0</td>\n",
       "      <td>2015</td>\n",
       "      <td>0</td>\n",
       "      <td>12</td>\n",
       "    </tr>\n",
       "    <tr>\n",
       "      <th>3</th>\n",
       "      <td>1.08</td>\n",
       "      <td>78992.15</td>\n",
       "      <td>1132.00</td>\n",
       "      <td>71976.41</td>\n",
       "      <td>72.58</td>\n",
       "      <td>5811.16</td>\n",
       "      <td>5677.40</td>\n",
       "      <td>133.76</td>\n",
       "      <td>0.0</td>\n",
       "      <td>0</td>\n",
       "      <td>2015</td>\n",
       "      <td>0</td>\n",
       "      <td>12</td>\n",
       "    </tr>\n",
       "    <tr>\n",
       "      <th>4</th>\n",
       "      <td>1.28</td>\n",
       "      <td>51039.60</td>\n",
       "      <td>941.48</td>\n",
       "      <td>43838.39</td>\n",
       "      <td>75.78</td>\n",
       "      <td>6183.95</td>\n",
       "      <td>5986.26</td>\n",
       "      <td>197.69</td>\n",
       "      <td>0.0</td>\n",
       "      <td>0</td>\n",
       "      <td>2015</td>\n",
       "      <td>0</td>\n",
       "      <td>11</td>\n",
       "    </tr>\n",
       "  </tbody>\n",
       "</table>\n",
       "</div>"
      ],
      "text/plain": [
       "   AveragePrice  Total Volume  Plu_4046   Plu_4225  Plu_4770  Total Bags  \\\n",
       "0          1.33      64236.62   1036.74   54454.85     48.16     8696.87   \n",
       "1          1.35      54876.98    674.28   44638.81     58.33     9505.56   \n",
       "2          0.93     118220.22    794.70  109149.67    130.50     8145.35   \n",
       "3          1.08      78992.15   1132.00   71976.41     72.58     5811.16   \n",
       "4          1.28      51039.60    941.48   43838.39     75.78     6183.95   \n",
       "\n",
       "   Small Bags  Large Bags  XLarge Bags  type  year  region  month  \n",
       "0     8603.62       93.25          0.0     0  2015       0     12  \n",
       "1     9408.07       97.49          0.0     0  2015       0     12  \n",
       "2     8042.21      103.14          0.0     0  2015       0     12  \n",
       "3     5677.40      133.76          0.0     0  2015       0     12  \n",
       "4     5986.26      197.69          0.0     0  2015       0     11  "
      ]
     },
     "execution_count": 23,
     "metadata": {},
     "output_type": "execute_result"
    }
   ],
   "source": [
    "# Display the processed dataframe\n",
    "df_avocado.head()"
   ]
  },
  {
   "cell_type": "markdown",
   "id": "a54b2a43",
   "metadata": {},
   "source": [
    "# 1. Classification model"
   ]
  },
  {
   "cell_type": "code",
   "execution_count": 24,
   "id": "df74da1d",
   "metadata": {},
   "outputs": [],
   "source": [
    "# Defining input features and target variable for Classification\n",
    "x = df_avocado.drop(['region', 'AveragePrice'], axis=1)\n",
    "y= df_avocado['region']"
   ]
  },
  {
   "cell_type": "code",
   "execution_count": 25,
   "id": "395a2104",
   "metadata": {},
   "outputs": [
    {
     "data": {
      "text/plain": [
       "0         0\n",
       "1         0\n",
       "2         0\n",
       "3         0\n",
       "4         0\n",
       "         ..\n",
       "18244    53\n",
       "18245    53\n",
       "18246    53\n",
       "18247    53\n",
       "18248    53\n",
       "Name: region, Length: 18249, dtype: int32"
      ]
     },
     "execution_count": 25,
     "metadata": {},
     "output_type": "execute_result"
    }
   ],
   "source": [
    "y"
   ]
  },
  {
   "cell_type": "code",
   "execution_count": 26,
   "id": "0c947114",
   "metadata": {},
   "outputs": [
    {
     "data": {
      "text/html": [
       "<div>\n",
       "<style scoped>\n",
       "    .dataframe tbody tr th:only-of-type {\n",
       "        vertical-align: middle;\n",
       "    }\n",
       "\n",
       "    .dataframe tbody tr th {\n",
       "        vertical-align: top;\n",
       "    }\n",
       "\n",
       "    .dataframe thead th {\n",
       "        text-align: right;\n",
       "    }\n",
       "</style>\n",
       "<table border=\"1\" class=\"dataframe\">\n",
       "  <thead>\n",
       "    <tr style=\"text-align: right;\">\n",
       "      <th></th>\n",
       "      <th>Total Volume</th>\n",
       "      <th>Plu_4046</th>\n",
       "      <th>Plu_4225</th>\n",
       "      <th>Plu_4770</th>\n",
       "      <th>Total Bags</th>\n",
       "      <th>Small Bags</th>\n",
       "      <th>Large Bags</th>\n",
       "      <th>XLarge Bags</th>\n",
       "      <th>type</th>\n",
       "      <th>year</th>\n",
       "      <th>month</th>\n",
       "    </tr>\n",
       "  </thead>\n",
       "  <tbody>\n",
       "    <tr>\n",
       "      <th>0</th>\n",
       "      <td>-0.227716</td>\n",
       "      <td>-0.230816</td>\n",
       "      <td>-0.199902</td>\n",
       "      <td>-0.212091</td>\n",
       "      <td>-0.234170</td>\n",
       "      <td>-0.232647</td>\n",
       "      <td>-0.222352</td>\n",
       "      <td>-0.17558</td>\n",
       "      <td>-0.999836</td>\n",
       "      <td>-1.221282</td>\n",
       "      <td>1.647632</td>\n",
       "    </tr>\n",
       "    <tr>\n",
       "      <th>1</th>\n",
       "      <td>-0.230427</td>\n",
       "      <td>-0.231103</td>\n",
       "      <td>-0.208054</td>\n",
       "      <td>-0.211997</td>\n",
       "      <td>-0.233350</td>\n",
       "      <td>-0.231568</td>\n",
       "      <td>-0.222335</td>\n",
       "      <td>-0.17558</td>\n",
       "      <td>-0.999836</td>\n",
       "      <td>-1.221282</td>\n",
       "      <td>1.647632</td>\n",
       "    </tr>\n",
       "    <tr>\n",
       "      <th>2</th>\n",
       "      <td>-0.212085</td>\n",
       "      <td>-0.231007</td>\n",
       "      <td>-0.154478</td>\n",
       "      <td>-0.211325</td>\n",
       "      <td>-0.234730</td>\n",
       "      <td>-0.233399</td>\n",
       "      <td>-0.222311</td>\n",
       "      <td>-0.17558</td>\n",
       "      <td>-0.999836</td>\n",
       "      <td>-1.221282</td>\n",
       "      <td>1.647632</td>\n",
       "    </tr>\n",
       "    <tr>\n",
       "      <th>3</th>\n",
       "      <td>-0.223444</td>\n",
       "      <td>-0.230741</td>\n",
       "      <td>-0.185350</td>\n",
       "      <td>-0.211864</td>\n",
       "      <td>-0.237096</td>\n",
       "      <td>-0.236568</td>\n",
       "      <td>-0.222186</td>\n",
       "      <td>-0.17558</td>\n",
       "      <td>-0.999836</td>\n",
       "      <td>-1.221282</td>\n",
       "      <td>1.647632</td>\n",
       "    </tr>\n",
       "    <tr>\n",
       "      <th>4</th>\n",
       "      <td>-0.231538</td>\n",
       "      <td>-0.230891</td>\n",
       "      <td>-0.208719</td>\n",
       "      <td>-0.211834</td>\n",
       "      <td>-0.236718</td>\n",
       "      <td>-0.236154</td>\n",
       "      <td>-0.221924</td>\n",
       "      <td>-0.17558</td>\n",
       "      <td>-0.999836</td>\n",
       "      <td>-1.221282</td>\n",
       "      <td>1.364669</td>\n",
       "    </tr>\n",
       "    <tr>\n",
       "      <th>...</th>\n",
       "      <td>...</td>\n",
       "      <td>...</td>\n",
       "      <td>...</td>\n",
       "      <td>...</td>\n",
       "      <td>...</td>\n",
       "      <td>...</td>\n",
       "      <td>...</td>\n",
       "      <td>...</td>\n",
       "      <td>...</td>\n",
       "      <td>...</td>\n",
       "      <td>...</td>\n",
       "    </tr>\n",
       "    <tr>\n",
       "      <th>18244</th>\n",
       "      <td>-0.241373</td>\n",
       "      <td>-0.230017</td>\n",
       "      <td>-0.243857</td>\n",
       "      <td>-0.212540</td>\n",
       "      <td>-0.229301</td>\n",
       "      <td>-0.226665</td>\n",
       "      <td>-0.220964</td>\n",
       "      <td>-0.17558</td>\n",
       "      <td>1.000164</td>\n",
       "      <td>1.970504</td>\n",
       "      <td>-1.181997</td>\n",
       "    </tr>\n",
       "    <tr>\n",
       "      <th>18245</th>\n",
       "      <td>-0.242296</td>\n",
       "      <td>-0.230693</td>\n",
       "      <td>-0.242277</td>\n",
       "      <td>-0.212540</td>\n",
       "      <td>-0.233594</td>\n",
       "      <td>-0.232196</td>\n",
       "      <td>-0.221403</td>\n",
       "      <td>-0.17558</td>\n",
       "      <td>1.000164</td>\n",
       "      <td>1.970504</td>\n",
       "      <td>-1.464959</td>\n",
       "    </tr>\n",
       "    <tr>\n",
       "      <th>18246</th>\n",
       "      <td>-0.242331</td>\n",
       "      <td>-0.230693</td>\n",
       "      <td>-0.243090</td>\n",
       "      <td>-0.205766</td>\n",
       "      <td>-0.233463</td>\n",
       "      <td>-0.231644</td>\n",
       "      <td>-0.222561</td>\n",
       "      <td>-0.17558</td>\n",
       "      <td>1.000164</td>\n",
       "      <td>1.970504</td>\n",
       "      <td>-1.464959</td>\n",
       "    </tr>\n",
       "    <tr>\n",
       "      <th>18247</th>\n",
       "      <td>-0.241625</td>\n",
       "      <td>-0.230428</td>\n",
       "      <td>-0.242651</td>\n",
       "      <td>-0.205774</td>\n",
       "      <td>-0.231866</td>\n",
       "      <td>-0.229543</td>\n",
       "      <td>-0.222529</td>\n",
       "      <td>-0.17558</td>\n",
       "      <td>1.000164</td>\n",
       "      <td>1.970504</td>\n",
       "      <td>-1.464959</td>\n",
       "    </tr>\n",
       "    <tr>\n",
       "      <th>18248</th>\n",
       "      <td>-0.241253</td>\n",
       "      <td>-0.229347</td>\n",
       "      <td>-0.243170</td>\n",
       "      <td>-0.210450</td>\n",
       "      <td>-0.230807</td>\n",
       "      <td>-0.228111</td>\n",
       "      <td>-0.222628</td>\n",
       "      <td>-0.17558</td>\n",
       "      <td>1.000164</td>\n",
       "      <td>1.970504</td>\n",
       "      <td>-1.464959</td>\n",
       "    </tr>\n",
       "  </tbody>\n",
       "</table>\n",
       "<p>18249 rows × 11 columns</p>\n",
       "</div>"
      ],
      "text/plain": [
       "       Total Volume  Plu_4046  Plu_4225  Plu_4770  Total Bags  Small Bags  \\\n",
       "0         -0.227716 -0.230816 -0.199902 -0.212091   -0.234170   -0.232647   \n",
       "1         -0.230427 -0.231103 -0.208054 -0.211997   -0.233350   -0.231568   \n",
       "2         -0.212085 -0.231007 -0.154478 -0.211325   -0.234730   -0.233399   \n",
       "3         -0.223444 -0.230741 -0.185350 -0.211864   -0.237096   -0.236568   \n",
       "4         -0.231538 -0.230891 -0.208719 -0.211834   -0.236718   -0.236154   \n",
       "...             ...       ...       ...       ...         ...         ...   \n",
       "18244     -0.241373 -0.230017 -0.243857 -0.212540   -0.229301   -0.226665   \n",
       "18245     -0.242296 -0.230693 -0.242277 -0.212540   -0.233594   -0.232196   \n",
       "18246     -0.242331 -0.230693 -0.243090 -0.205766   -0.233463   -0.231644   \n",
       "18247     -0.241625 -0.230428 -0.242651 -0.205774   -0.231866   -0.229543   \n",
       "18248     -0.241253 -0.229347 -0.243170 -0.210450   -0.230807   -0.228111   \n",
       "\n",
       "       Large Bags  XLarge Bags      type      year     month  \n",
       "0       -0.222352     -0.17558 -0.999836 -1.221282  1.647632  \n",
       "1       -0.222335     -0.17558 -0.999836 -1.221282  1.647632  \n",
       "2       -0.222311     -0.17558 -0.999836 -1.221282  1.647632  \n",
       "3       -0.222186     -0.17558 -0.999836 -1.221282  1.647632  \n",
       "4       -0.221924     -0.17558 -0.999836 -1.221282  1.364669  \n",
       "...           ...          ...       ...       ...       ...  \n",
       "18244   -0.220964     -0.17558  1.000164  1.970504 -1.181997  \n",
       "18245   -0.221403     -0.17558  1.000164  1.970504 -1.464959  \n",
       "18246   -0.222561     -0.17558  1.000164  1.970504 -1.464959  \n",
       "18247   -0.222529     -0.17558  1.000164  1.970504 -1.464959  \n",
       "18248   -0.222628     -0.17558  1.000164  1.970504 -1.464959  \n",
       "\n",
       "[18249 rows x 11 columns]"
      ]
     },
     "execution_count": 26,
     "metadata": {},
     "output_type": "execute_result"
    }
   ],
   "source": [
    "# Feature scaling using standard Scalarization\n",
    "from sklearn.preprocessing import StandardScaler\n",
    "scaler =StandardScaler()\n",
    "x=pd.DataFrame(scaler.fit_transform(x), columns=x.columns)\n",
    "x"
   ]
  },
  {
   "cell_type": "markdown",
   "id": "dfb4c4a9",
   "metadata": {},
   "source": [
    "Dataset Splitting and Training:"
   ]
  },
  {
   "cell_type": "code",
   "execution_count": 27,
   "id": "5a1d6823",
   "metadata": {},
   "outputs": [],
   "source": [
    "# Spliting the data into Train and Test Dataset\n",
    "from sklearn.model_selection import train_test_split\n",
    "x_train, x_test, y_train, y_test = train_test_split(x, y, test_size=0.2, random_state=42)"
   ]
  },
  {
   "cell_type": "markdown",
   "id": "f2e86091",
   "metadata": {},
   "source": [
    "# Model Training and Evaluation:"
   ]
  },
  {
   "cell_type": "markdown",
   "id": "eee6e513",
   "metadata": {},
   "source": [
    "1. Stochastic Gradient Descent (SGD):"
   ]
  },
  {
   "cell_type": "code",
   "execution_count": 28,
   "id": "3266c142",
   "metadata": {},
   "outputs": [
    {
     "data": {
      "text/plain": [
       "16.57"
      ]
     },
     "execution_count": 28,
     "metadata": {},
     "output_type": "execute_result"
    }
   ],
   "source": [
    "sgd = linear_model.SGDClassifier(max_iter=5, tol=None)\n",
    "sgd.fit(x_train, y_train)\n",
    "Y_pred = sgd.predict(x_test)\n",
    "\n",
    "sgd.score(x_train, y_train)\n",
    "\n",
    "acc_sgd = round(sgd.score(x_train, y_train) * 100, 2)\n",
    "\n",
    "acc_sgd"
   ]
  },
  {
   "cell_type": "markdown",
   "id": "daaef251",
   "metadata": {},
   "source": [
    "2. Random Forest:"
   ]
  },
  {
   "cell_type": "code",
   "execution_count": 29,
   "id": "96aad850",
   "metadata": {},
   "outputs": [
    {
     "data": {
      "text/plain": [
       "100.0"
      ]
     },
     "execution_count": 29,
     "metadata": {},
     "output_type": "execute_result"
    }
   ],
   "source": [
    "random_forest = RandomForestClassifier(n_estimators=100)\n",
    "random_forest.fit(x_train, y_train)\n",
    "\n",
    "Y_pred = random_forest.predict(x_test)\n",
    "\n",
    "random_forest.score(x_train, y_train)\n",
    "acc_random_forest = round(random_forest.score(x_train, y_train) * 100, 2)\n",
    "acc_random_forest"
   ]
  },
  {
   "cell_type": "markdown",
   "id": "94b8b32a",
   "metadata": {},
   "source": [
    " 3. Logistic Regression:"
   ]
  },
  {
   "cell_type": "code",
   "execution_count": 30,
   "id": "ddb06318",
   "metadata": {},
   "outputs": [
    {
     "data": {
      "text/plain": [
       "34.2"
      ]
     },
     "execution_count": 30,
     "metadata": {},
     "output_type": "execute_result"
    }
   ],
   "source": [
    "logreg = LogisticRegression()\n",
    "logreg.fit(x_train, y_train)\n",
    "\n",
    "Y_pred = logreg.predict(x_test)\n",
    "\n",
    "acc_log = round(logreg.score(x_train, y_train) * 100, 2)\n",
    "acc_log"
   ]
  },
  {
   "cell_type": "markdown",
   "id": "e3b126e9",
   "metadata": {},
   "source": [
    "4. K Nearest Neighbor:"
   ]
  },
  {
   "cell_type": "code",
   "execution_count": 31,
   "id": "3a1b855d",
   "metadata": {},
   "outputs": [
    {
     "data": {
      "text/plain": [
       "83.02"
      ]
     },
     "execution_count": 31,
     "metadata": {},
     "output_type": "execute_result"
    }
   ],
   "source": [
    "knn =KNeighborsClassifier(n_neighbors = 3)\n",
    "knn.fit(x_train, y_train) \n",
    "Y_pred = knn.predict(x_test) \n",
    "acc_knn = round(knn.score(x_train, y_train) * 100, 2)\n",
    "acc_knn"
   ]
  },
  {
   "cell_type": "markdown",
   "id": "6872a25c",
   "metadata": {},
   "source": [
    "5. Gaussian Naive Bayes:"
   ]
  },
  {
   "cell_type": "code",
   "execution_count": 32,
   "id": "b89dacce",
   "metadata": {},
   "outputs": [
    {
     "data": {
      "text/plain": [
       "30.67"
      ]
     },
     "execution_count": 32,
     "metadata": {},
     "output_type": "execute_result"
    }
   ],
   "source": [
    "gaussian = GaussianNB() \n",
    "gaussian.fit(x_train, y_train)\n",
    "Y_pred =gaussian.predict(x_test) \n",
    "acc_gaussian = round(gaussian.score(x_train, y_train) * 100, 2)\n",
    "acc_gaussian"
   ]
  },
  {
   "cell_type": "markdown",
   "id": "ffd81600",
   "metadata": {},
   "source": [
    "6. Perceptron: "
   ]
  },
  {
   "cell_type": "code",
   "execution_count": 33,
   "id": "cc11d889",
   "metadata": {},
   "outputs": [
    {
     "data": {
      "text/plain": [
       "13.07"
      ]
     },
     "execution_count": 33,
     "metadata": {},
     "output_type": "execute_result"
    }
   ],
   "source": [
    "perceptron = Perceptron(max_iter=5)\n",
    "perceptron.fit(x_train, y_train)\n",
    "\n",
    "Y_pred = perceptron.predict(x_test)\n",
    "\n",
    "acc_perceptron = round(perceptron.score(x_train, y_train) * 100, 2)\n",
    "acc_perceptron"
   ]
  },
  {
   "cell_type": "markdown",
   "id": "eb223ee9",
   "metadata": {},
   "source": [
    "7. Linear Support Vector Machine:"
   ]
  },
  {
   "cell_type": "code",
   "execution_count": 34,
   "id": "62a5cf77",
   "metadata": {},
   "outputs": [
    {
     "data": {
      "text/plain": [
       "30.6"
      ]
     },
     "execution_count": 34,
     "metadata": {},
     "output_type": "execute_result"
    }
   ],
   "source": [
    "linear_svc = LinearSVC()\n",
    "linear_svc.fit(x_train, y_train)\n",
    "\n",
    "Y_pred = linear_svc.predict(x_test)\n",
    "\n",
    "acc_linear_svc = round(linear_svc.score(x_train, y_train) * 100, 2)\n",
    "acc_linear_svc"
   ]
  },
  {
   "cell_type": "markdown",
   "id": "15975658",
   "metadata": {},
   "source": [
    "8. Decision Tree:"
   ]
  },
  {
   "cell_type": "code",
   "execution_count": 35,
   "id": "8e7ca893",
   "metadata": {},
   "outputs": [
    {
     "data": {
      "text/plain": [
       "100.0"
      ]
     },
     "execution_count": 35,
     "metadata": {},
     "output_type": "execute_result"
    }
   ],
   "source": [
    "decision_tree = DecisionTreeClassifier() \n",
    "decision_tree.fit(x_train, y_train)  \n",
    "Y_pred = decision_tree.predict(x_test)  \n",
    "acc_decision_tree = round(decision_tree.score(x_train, y_train) * 100, 2)\n",
    "acc_decision_tree"
   ]
  },
  {
   "cell_type": "markdown",
   "id": "93cc2faa",
   "metadata": {},
   "source": [
    "Which is the best Model?"
   ]
  },
  {
   "cell_type": "code",
   "execution_count": 36,
   "id": "4144bdad",
   "metadata": {},
   "outputs": [
    {
     "data": {
      "text/html": [
       "<div>\n",
       "<style scoped>\n",
       "    .dataframe tbody tr th:only-of-type {\n",
       "        vertical-align: middle;\n",
       "    }\n",
       "\n",
       "    .dataframe tbody tr th {\n",
       "        vertical-align: top;\n",
       "    }\n",
       "\n",
       "    .dataframe thead th {\n",
       "        text-align: right;\n",
       "    }\n",
       "</style>\n",
       "<table border=\"1\" class=\"dataframe\">\n",
       "  <thead>\n",
       "    <tr style=\"text-align: right;\">\n",
       "      <th></th>\n",
       "      <th>Model</th>\n",
       "    </tr>\n",
       "    <tr>\n",
       "      <th>Score</th>\n",
       "      <th></th>\n",
       "    </tr>\n",
       "  </thead>\n",
       "  <tbody>\n",
       "    <tr>\n",
       "      <th>100.00</th>\n",
       "      <td>Random Forest</td>\n",
       "    </tr>\n",
       "    <tr>\n",
       "      <th>100.00</th>\n",
       "      <td>Decision Tree</td>\n",
       "    </tr>\n",
       "    <tr>\n",
       "      <th>83.02</th>\n",
       "      <td>KNN</td>\n",
       "    </tr>\n",
       "    <tr>\n",
       "      <th>34.20</th>\n",
       "      <td>Logistic Regression</td>\n",
       "    </tr>\n",
       "    <tr>\n",
       "      <th>30.67</th>\n",
       "      <td>Naive Bayes</td>\n",
       "    </tr>\n",
       "    <tr>\n",
       "      <th>30.60</th>\n",
       "      <td>Support Vector Machines</td>\n",
       "    </tr>\n",
       "    <tr>\n",
       "      <th>16.57</th>\n",
       "      <td>Stochastic Gradient Decent</td>\n",
       "    </tr>\n",
       "    <tr>\n",
       "      <th>13.07</th>\n",
       "      <td>Perceptron</td>\n",
       "    </tr>\n",
       "  </tbody>\n",
       "</table>\n",
       "</div>"
      ],
      "text/plain": [
       "                             Model\n",
       "Score                             \n",
       "100.00               Random Forest\n",
       "100.00               Decision Tree\n",
       "83.02                          KNN\n",
       "34.20          Logistic Regression\n",
       "30.67                  Naive Bayes\n",
       "30.60      Support Vector Machines\n",
       "16.57   Stochastic Gradient Decent\n",
       "13.07                   Perceptron"
      ]
     },
     "execution_count": 36,
     "metadata": {},
     "output_type": "execute_result"
    }
   ],
   "source": [
    "results = pd.DataFrame({\n",
    "    'Model': ['Support Vector Machines', 'KNN', 'Logistic Regression', \n",
    "              'Random Forest', 'Naive Bayes', 'Perceptron', \n",
    "              'Stochastic Gradient Decent', \n",
    "              'Decision Tree'],\n",
    "    'Score': [acc_linear_svc, acc_knn, acc_log, \n",
    "              acc_random_forest, acc_gaussian, acc_perceptron, \n",
    "              acc_sgd, acc_decision_tree]})\n",
    "result_df = results.sort_values(by='Score', ascending=False)\n",
    "result_df = result_df.set_index('Score')\n",
    "result_df.head(9)"
   ]
  },
  {
   "cell_type": "markdown",
   "id": "bacea794",
   "metadata": {},
   "source": [
    "As we can see, Random Forest has the best Score ranked the 1st on the table, indicating the best model."
   ]
  },
  {
   "cell_type": "code",
   "execution_count": 37,
   "id": "5af29b29",
   "metadata": {},
   "outputs": [
    {
     "name": "stdout",
     "output_type": "stream",
     "text": [
      "Scores: [0.87465753 0.89041096 0.87260274 0.87465753 0.9        0.90958904\n",
      " 0.88835616 0.90616438 0.88835616 0.88211103]\n",
      "Mean: 0.8886905555503393\n",
      "Standard Deviation: 0.012526482359026729\n"
     ]
    }
   ],
   "source": [
    "#cross validation for Random forest\n",
    "from sklearn.model_selection import cross_val_score\n",
    "rf = RandomForestClassifier(n_estimators=42)\n",
    "scores = cross_val_score(rf, x_train, y_train, cv=10, scoring = \"accuracy\")\n",
    "print(\"Scores:\", scores)\n",
    "print(\"Mean:\", scores.mean())\n",
    "print(\"Standard Deviation:\", scores.std())"
   ]
  },
  {
   "cell_type": "code",
   "execution_count": 38,
   "id": "e6e5b37d",
   "metadata": {},
   "outputs": [
    {
     "name": "stdout",
     "output_type": "stream",
     "text": [
      "Scores: [0.77054795 0.80616438 0.7869863  0.75958904 0.79726027 0.81780822\n",
      " 0.77876712 0.81027397 0.77534247 0.79643592]\n",
      "Mean: 0.7899175641037678\n",
      "Standard Deviation: 0.01786895353494839\n"
     ]
    }
   ],
   "source": [
    "from sklearn.model_selection import cross_val_score\n",
    "rf = DecisionTreeClassifier(random_state=42)\n",
    "scores = cross_val_score(rf, x_train, y_train, cv=10, scoring = \"accuracy\")\n",
    "print(\"Scores:\", scores)\n",
    "print(\"Mean:\", scores.mean())\n",
    "print(\"Standard Deviation:\", scores.std())"
   ]
  },
  {
   "cell_type": "markdown",
   "id": "8e5cd3b7",
   "metadata": {},
   "source": [
    "The Mean Score for Random forest Classifier Model has Mean Score 89% while that of the Decision Tree is 79%.Hence the Random forest give more accurate prediction."
   ]
  },
  {
   "cell_type": "code",
   "execution_count": null,
   "id": "fad8c279",
   "metadata": {},
   "outputs": [],
   "source": []
  },
  {
   "cell_type": "code",
   "execution_count": 39,
   "id": "b6b071a2",
   "metadata": {},
   "outputs": [
    {
     "name": "stdout",
     "output_type": "stream",
     "text": [
      "              precision    recall  f1-score   support\n",
      "\n",
      "           0       0.87      0.92      0.89        63\n",
      "           1       0.85      0.84      0.84        73\n",
      "           2       0.98      0.97      0.98        61\n",
      "           3       0.88      0.88      0.88        72\n",
      "           4       0.89      0.93      0.91        67\n",
      "           5       0.92      0.81      0.86        73\n",
      "           6       0.97      0.98      0.98        62\n",
      "           7       0.94      0.87      0.90        76\n",
      "           8       0.97      0.97      0.97        72\n",
      "           9       0.95      0.89      0.92        65\n",
      "          10       0.87      0.82      0.84        65\n",
      "          11       0.96      0.99      0.97        68\n",
      "          12       0.94      0.91      0.92        65\n",
      "          13       0.80      0.83      0.81        66\n",
      "          14       0.89      0.94      0.92        71\n",
      "          15       0.97      0.99      0.98        69\n",
      "          16       0.99      0.93      0.96        71\n",
      "          17       0.89      0.97      0.93        69\n",
      "          18       0.97      0.90      0.93        67\n",
      "          19       0.87      0.83      0.85        63\n",
      "          20       0.94      0.96      0.95        68\n",
      "          21       0.77      0.85      0.81        65\n",
      "          22       0.99      0.99      0.99        70\n",
      "          23       0.86      0.87      0.86        68\n",
      "          24       0.64      0.65      0.64        68\n",
      "          25       0.98      0.97      0.98        62\n",
      "          26       0.76      0.79      0.77        70\n",
      "          27       0.88      0.93      0.91        73\n",
      "          28       0.95      0.95      0.95        66\n",
      "          29       0.96      0.97      0.97        75\n",
      "          30       0.89      0.88      0.89        58\n",
      "          31       0.66      0.64      0.65        69\n",
      "          32       0.97      0.89      0.93        73\n",
      "          33       0.86      0.85      0.85        52\n",
      "          34       0.95      0.90      0.93        63\n",
      "          35       0.93      0.97      0.95        80\n",
      "          36       0.87      0.81      0.84        74\n",
      "          37       0.81      0.92      0.86        61\n",
      "          38       0.92      0.96      0.94        69\n",
      "          39       0.92      0.95      0.93        59\n",
      "          40       0.91      0.96      0.93        72\n",
      "          41       0.92      0.90      0.91        79\n",
      "          42       0.92      0.97      0.94        70\n",
      "          43       0.82      0.85      0.84        60\n",
      "          44       0.91      0.90      0.90        67\n",
      "          45       0.97      0.98      0.98        60\n",
      "          46       0.94      0.98      0.96        64\n",
      "          47       0.88      0.90      0.89        77\n",
      "          48       0.91      0.79      0.85        67\n",
      "          49       0.83      0.90      0.86        70\n",
      "          50       0.61      0.56      0.58        72\n",
      "          51       0.99      1.00      0.99        67\n",
      "          52       1.00      1.00      1.00        65\n",
      "          53       0.88      0.83      0.85        59\n",
      "\n",
      "    accuracy                           0.89      3650\n",
      "   macro avg       0.90      0.90      0.89      3650\n",
      "weighted avg       0.90      0.89      0.89      3650\n",
      "\n",
      "Accuracy: 0.8947945205479452\n"
     ]
    }
   ],
   "source": [
    "# Initialize the model\n",
    "random_forest = RandomForestClassifier(n_estimators=100, random_state=42)\n",
    "\n",
    "# Train the model\n",
    "random_forest.fit(x_train, y_train)\n",
    "\n",
    "# Predict on the validation set\n",
    "y_pred = random_forest.predict(x_test)\n",
    "y_pred_proba = random_forest.predict_proba(x_test)[:, 1]\n",
    "\n",
    "# Evaluate the model\n",
    "print(classification_report(y_test, y_pred))\n",
    "print(f'Accuracy: {accuracy_score(y_test, y_pred)}')"
   ]
  },
  {
   "cell_type": "markdown",
   "id": "75a743f3",
   "metadata": {},
   "source": [
    "This has an 89% accuracy prediction"
   ]
  },
  {
   "cell_type": "code",
   "execution_count": 40,
   "id": "40eda31b",
   "metadata": {},
   "outputs": [],
   "source": [
    "# Map LabelEncodel back to 'Region Names'\n",
    "df_avocado['region'] =region.inverse_transform(df_avocado['region'])"
   ]
  },
  {
   "cell_type": "code",
   "execution_count": 41,
   "id": "a731e9ae",
   "metadata": {},
   "outputs": [
    {
     "data": {
      "text/html": [
       "<div>\n",
       "<style scoped>\n",
       "    .dataframe tbody tr th:only-of-type {\n",
       "        vertical-align: middle;\n",
       "    }\n",
       "\n",
       "    .dataframe tbody tr th {\n",
       "        vertical-align: top;\n",
       "    }\n",
       "\n",
       "    .dataframe thead th {\n",
       "        text-align: right;\n",
       "    }\n",
       "</style>\n",
       "<table border=\"1\" class=\"dataframe\">\n",
       "  <thead>\n",
       "    <tr style=\"text-align: right;\">\n",
       "      <th></th>\n",
       "      <th>AveragePrice</th>\n",
       "      <th>Total Volume</th>\n",
       "      <th>Plu_4046</th>\n",
       "      <th>Plu_4225</th>\n",
       "      <th>Plu_4770</th>\n",
       "      <th>Total Bags</th>\n",
       "      <th>Small Bags</th>\n",
       "      <th>Large Bags</th>\n",
       "      <th>XLarge Bags</th>\n",
       "      <th>type</th>\n",
       "      <th>year</th>\n",
       "      <th>region</th>\n",
       "      <th>month</th>\n",
       "    </tr>\n",
       "  </thead>\n",
       "  <tbody>\n",
       "    <tr>\n",
       "      <th>0</th>\n",
       "      <td>1.33</td>\n",
       "      <td>64236.62</td>\n",
       "      <td>1036.74</td>\n",
       "      <td>54454.85</td>\n",
       "      <td>48.16</td>\n",
       "      <td>8696.87</td>\n",
       "      <td>8603.62</td>\n",
       "      <td>93.25</td>\n",
       "      <td>0.0</td>\n",
       "      <td>0</td>\n",
       "      <td>2015</td>\n",
       "      <td>Albany</td>\n",
       "      <td>12</td>\n",
       "    </tr>\n",
       "    <tr>\n",
       "      <th>1</th>\n",
       "      <td>1.35</td>\n",
       "      <td>54876.98</td>\n",
       "      <td>674.28</td>\n",
       "      <td>44638.81</td>\n",
       "      <td>58.33</td>\n",
       "      <td>9505.56</td>\n",
       "      <td>9408.07</td>\n",
       "      <td>97.49</td>\n",
       "      <td>0.0</td>\n",
       "      <td>0</td>\n",
       "      <td>2015</td>\n",
       "      <td>Albany</td>\n",
       "      <td>12</td>\n",
       "    </tr>\n",
       "    <tr>\n",
       "      <th>2</th>\n",
       "      <td>0.93</td>\n",
       "      <td>118220.22</td>\n",
       "      <td>794.70</td>\n",
       "      <td>109149.67</td>\n",
       "      <td>130.50</td>\n",
       "      <td>8145.35</td>\n",
       "      <td>8042.21</td>\n",
       "      <td>103.14</td>\n",
       "      <td>0.0</td>\n",
       "      <td>0</td>\n",
       "      <td>2015</td>\n",
       "      <td>Albany</td>\n",
       "      <td>12</td>\n",
       "    </tr>\n",
       "    <tr>\n",
       "      <th>3</th>\n",
       "      <td>1.08</td>\n",
       "      <td>78992.15</td>\n",
       "      <td>1132.00</td>\n",
       "      <td>71976.41</td>\n",
       "      <td>72.58</td>\n",
       "      <td>5811.16</td>\n",
       "      <td>5677.40</td>\n",
       "      <td>133.76</td>\n",
       "      <td>0.0</td>\n",
       "      <td>0</td>\n",
       "      <td>2015</td>\n",
       "      <td>Albany</td>\n",
       "      <td>12</td>\n",
       "    </tr>\n",
       "    <tr>\n",
       "      <th>4</th>\n",
       "      <td>1.28</td>\n",
       "      <td>51039.60</td>\n",
       "      <td>941.48</td>\n",
       "      <td>43838.39</td>\n",
       "      <td>75.78</td>\n",
       "      <td>6183.95</td>\n",
       "      <td>5986.26</td>\n",
       "      <td>197.69</td>\n",
       "      <td>0.0</td>\n",
       "      <td>0</td>\n",
       "      <td>2015</td>\n",
       "      <td>Albany</td>\n",
       "      <td>11</td>\n",
       "    </tr>\n",
       "    <tr>\n",
       "      <th>...</th>\n",
       "      <td>...</td>\n",
       "      <td>...</td>\n",
       "      <td>...</td>\n",
       "      <td>...</td>\n",
       "      <td>...</td>\n",
       "      <td>...</td>\n",
       "      <td>...</td>\n",
       "      <td>...</td>\n",
       "      <td>...</td>\n",
       "      <td>...</td>\n",
       "      <td>...</td>\n",
       "      <td>...</td>\n",
       "      <td>...</td>\n",
       "    </tr>\n",
       "    <tr>\n",
       "      <th>18244</th>\n",
       "      <td>1.63</td>\n",
       "      <td>17074.83</td>\n",
       "      <td>2046.96</td>\n",
       "      <td>1529.20</td>\n",
       "      <td>0.00</td>\n",
       "      <td>13498.67</td>\n",
       "      <td>13066.82</td>\n",
       "      <td>431.85</td>\n",
       "      <td>0.0</td>\n",
       "      <td>1</td>\n",
       "      <td>2018</td>\n",
       "      <td>WestTexNewMexico</td>\n",
       "      <td>2</td>\n",
       "    </tr>\n",
       "    <tr>\n",
       "      <th>18245</th>\n",
       "      <td>1.71</td>\n",
       "      <td>13888.04</td>\n",
       "      <td>1191.70</td>\n",
       "      <td>3431.50</td>\n",
       "      <td>0.00</td>\n",
       "      <td>9264.84</td>\n",
       "      <td>8940.04</td>\n",
       "      <td>324.80</td>\n",
       "      <td>0.0</td>\n",
       "      <td>1</td>\n",
       "      <td>2018</td>\n",
       "      <td>WestTexNewMexico</td>\n",
       "      <td>1</td>\n",
       "    </tr>\n",
       "    <tr>\n",
       "      <th>18246</th>\n",
       "      <td>1.87</td>\n",
       "      <td>13766.76</td>\n",
       "      <td>1191.92</td>\n",
       "      <td>2452.79</td>\n",
       "      <td>727.94</td>\n",
       "      <td>9394.11</td>\n",
       "      <td>9351.80</td>\n",
       "      <td>42.31</td>\n",
       "      <td>0.0</td>\n",
       "      <td>1</td>\n",
       "      <td>2018</td>\n",
       "      <td>WestTexNewMexico</td>\n",
       "      <td>1</td>\n",
       "    </tr>\n",
       "    <tr>\n",
       "      <th>18247</th>\n",
       "      <td>1.93</td>\n",
       "      <td>16205.22</td>\n",
       "      <td>1527.63</td>\n",
       "      <td>2981.04</td>\n",
       "      <td>727.01</td>\n",
       "      <td>10969.54</td>\n",
       "      <td>10919.54</td>\n",
       "      <td>50.00</td>\n",
       "      <td>0.0</td>\n",
       "      <td>1</td>\n",
       "      <td>2018</td>\n",
       "      <td>WestTexNewMexico</td>\n",
       "      <td>1</td>\n",
       "    </tr>\n",
       "    <tr>\n",
       "      <th>18248</th>\n",
       "      <td>1.62</td>\n",
       "      <td>17489.58</td>\n",
       "      <td>2894.77</td>\n",
       "      <td>2356.13</td>\n",
       "      <td>224.53</td>\n",
       "      <td>12014.15</td>\n",
       "      <td>11988.14</td>\n",
       "      <td>26.01</td>\n",
       "      <td>0.0</td>\n",
       "      <td>1</td>\n",
       "      <td>2018</td>\n",
       "      <td>WestTexNewMexico</td>\n",
       "      <td>1</td>\n",
       "    </tr>\n",
       "  </tbody>\n",
       "</table>\n",
       "<p>18249 rows × 13 columns</p>\n",
       "</div>"
      ],
      "text/plain": [
       "       AveragePrice  Total Volume  Plu_4046   Plu_4225  Plu_4770  Total Bags  \\\n",
       "0              1.33      64236.62   1036.74   54454.85     48.16     8696.87   \n",
       "1              1.35      54876.98    674.28   44638.81     58.33     9505.56   \n",
       "2              0.93     118220.22    794.70  109149.67    130.50     8145.35   \n",
       "3              1.08      78992.15   1132.00   71976.41     72.58     5811.16   \n",
       "4              1.28      51039.60    941.48   43838.39     75.78     6183.95   \n",
       "...             ...           ...       ...        ...       ...         ...   \n",
       "18244          1.63      17074.83   2046.96    1529.20      0.00    13498.67   \n",
       "18245          1.71      13888.04   1191.70    3431.50      0.00     9264.84   \n",
       "18246          1.87      13766.76   1191.92    2452.79    727.94     9394.11   \n",
       "18247          1.93      16205.22   1527.63    2981.04    727.01    10969.54   \n",
       "18248          1.62      17489.58   2894.77    2356.13    224.53    12014.15   \n",
       "\n",
       "       Small Bags  Large Bags  XLarge Bags  type  year            region  \\\n",
       "0         8603.62       93.25          0.0     0  2015            Albany   \n",
       "1         9408.07       97.49          0.0     0  2015            Albany   \n",
       "2         8042.21      103.14          0.0     0  2015            Albany   \n",
       "3         5677.40      133.76          0.0     0  2015            Albany   \n",
       "4         5986.26      197.69          0.0     0  2015            Albany   \n",
       "...           ...         ...          ...   ...   ...               ...   \n",
       "18244    13066.82      431.85          0.0     1  2018  WestTexNewMexico   \n",
       "18245     8940.04      324.80          0.0     1  2018  WestTexNewMexico   \n",
       "18246     9351.80       42.31          0.0     1  2018  WestTexNewMexico   \n",
       "18247    10919.54       50.00          0.0     1  2018  WestTexNewMexico   \n",
       "18248    11988.14       26.01          0.0     1  2018  WestTexNewMexico   \n",
       "\n",
       "       month  \n",
       "0         12  \n",
       "1         12  \n",
       "2         12  \n",
       "3         12  \n",
       "4         11  \n",
       "...      ...  \n",
       "18244      2  \n",
       "18245      1  \n",
       "18246      1  \n",
       "18247      1  \n",
       "18248      1  \n",
       "\n",
       "[18249 rows x 13 columns]"
      ]
     },
     "execution_count": 41,
     "metadata": {},
     "output_type": "execute_result"
    }
   ],
   "source": [
    "df_avocado"
   ]
  },
  {
   "cell_type": "markdown",
   "id": "4f45c285",
   "metadata": {},
   "source": [
    "# 2. Regression model"
   ]
  },
  {
   "cell_type": "code",
   "execution_count": 42,
   "id": "c25d37c0",
   "metadata": {},
   "outputs": [],
   "source": [
    "df_avocado['region'] =region.fit_transform(df_avocado['region'])"
   ]
  },
  {
   "cell_type": "code",
   "execution_count": 43,
   "id": "c614bc97",
   "metadata": {},
   "outputs": [],
   "source": [
    "# Defining input features and target variable for Classification\n",
    "x1 = df_avocado.drop(['AveragePrice'], axis=1)\n",
    "y1= df_avocado['AveragePrice']"
   ]
  },
  {
   "cell_type": "code",
   "execution_count": 44,
   "id": "09e80e6f",
   "metadata": {},
   "outputs": [],
   "source": [
    "# Spliting the data into Train and Test Dataset\n",
    "from sklearn.model_selection import train_test_split\n",
    "x_train_1, x_test_1, y_train_1, y_test_1 = train_test_split(x1, y1, test_size=0.2, random_state=42)"
   ]
  },
  {
   "cell_type": "markdown",
   "id": "4506b159",
   "metadata": {},
   "source": [
    "# Model Training and Evaluation:"
   ]
  },
  {
   "cell_type": "code",
   "execution_count": 45,
   "id": "e1fc49e6",
   "metadata": {},
   "outputs": [],
   "source": [
    "#Import training libraries\n",
    "from sklearn.ensemble import GradientBoostingRegressor\n",
    "from sklearn.linear_model import LogisticRegression\n",
    "from sklearn.ensemble import RandomForestRegressor\n",
    "from sklearn.linear_model import Lasso,Ridge\n",
    "from sklearn.tree import DecisionTreeRegressor\n",
    "from sklearn.neighbors import KNeighborsRegressor\n",
    "from sklearn.metrics import r2_score\n",
    "from sklearn.svm import  SVR"
   ]
  },
  {
   "cell_type": "markdown",
   "id": "463a3aa3",
   "metadata": {},
   "source": [
    "1. Random Forest:"
   ]
  },
  {
   "cell_type": "code",
   "execution_count": 46,
   "id": "e4ab76a4",
   "metadata": {},
   "outputs": [
    {
     "name": "stdout",
     "output_type": "stream",
     "text": [
      "RandomForestRegressor()\n",
      "R2_Score_rf:  89.20614355458302\n",
      "R2_Score on training Data:  98.4962940275938\n",
      "Mean Absolute error:  0.0917167397260274\n",
      "Mean Squared error:  0.01734239020547945\n",
      "Root Mean Squared error:  0.13169050917009717\n"
     ]
    }
   ],
   "source": [
    "#Model Training\n",
    "random_forest = RandomForestRegressor()\n",
    "random_forest.fit(x_train_1, y_train_1)\n",
    "pred_random_forest = random_forest.predict(x_test_1)\n",
    "pred_train = random_forest.predict(x_train_1)\n",
    "\n",
    "\n",
    "R2_Score_rf = r2_score(y_test_1, pred_random_forest)*100\n",
    "R2_Score_training_rf = r2_score(y_train_1, pred_train)*100\n",
    "Mean_Absolute_error_rf = mean_absolute_error(y_test_1, pred_random_forest)\n",
    "Mean_Squared_error_rf = mean_squared_error(y_test_1, pred_random_forest)\n",
    "Root_Mean_Squared_error_rf= np.sqrt(mean_squared_error(y_test_1, pred_random_forest))\n",
    "\n",
    "print(random_forest)\n",
    "print(\"R2_Score_rf: \", R2_Score_rf)\n",
    "print(\"R2_Score on training Data: \", R2_Score_training_rf)\n",
    "print(\"Mean Absolute error: \", Mean_Absolute_error_rf)\n",
    "print(\"Mean Squared error: \", Mean_Squared_error_rf)\n",
    "print(\"Root Mean Squared error: \", Root_Mean_Squared_error_rf)\n"
   ]
  },
  {
   "cell_type": "markdown",
   "id": "94a8586a",
   "metadata": {},
   "source": [
    "2. K Nearest Neighbor:"
   ]
  },
  {
   "cell_type": "code",
   "execution_count": 47,
   "id": "27cbe0d2",
   "metadata": {},
   "outputs": [
    {
     "name": "stdout",
     "output_type": "stream",
     "text": [
      "KNeighborsRegressor(n_neighbors=3)\n",
      "R2_Score_kn:  60.84857957014671\n",
      "R2_Score on training Data:  83.18215104188312\n",
      "Mean Absolute error:  0.17390776255707763\n",
      "Mean Squared error:  0.06290422831050228\n",
      "Root Mean Squared error:  0.25080715362704925\n"
     ]
    }
   ],
   "source": [
    "knn =KNeighborsRegressor(n_neighbors = 3)\n",
    "knn.fit(x_train_1, y_train_1)\n",
    "pred_knn = knn.predict(x_test_1)\n",
    "pred_train = knn.predict(x_train_1)\n",
    "\n",
    "\n",
    "R2_Score_kn = r2_score(y_test_1, pred_knn)*100\n",
    "R2_Score_training_kn = r2_score(y_train_1, pred_train)*100\n",
    "Mean_Absolute_error_kn = mean_absolute_error(y_test_1, pred_knn)\n",
    "Mean_Squared_error_kn = mean_squared_error(y_test_1, pred_knn)\n",
    "Root_Mean_Squared_error_kn= np.sqrt(mean_squared_error(y_test_1, pred_knn))\n",
    "\n",
    "print(knn)\n",
    "print(\"R2_Score_kn: \", R2_Score_kn)\n",
    "print(\"R2_Score on training Data: \", R2_Score_training_kn)\n",
    "print(\"Mean Absolute error: \", Mean_Absolute_error_kn)\n",
    "print(\"Mean Squared error: \", Mean_Squared_error_kn)\n",
    "print(\"Root Mean Squared error: \", Root_Mean_Squared_error_kn)"
   ]
  },
  {
   "cell_type": "markdown",
   "id": "c5c2047a",
   "metadata": {},
   "source": [
    "3. Decision Tree:"
   ]
  },
  {
   "cell_type": "code",
   "execution_count": 48,
   "id": "6255bb50",
   "metadata": {},
   "outputs": [
    {
     "name": "stdout",
     "output_type": "stream",
     "text": [
      "DecisionTreeRegressor()\n",
      "R2_Score_dt:  78.74054599821588\n",
      "R2_Score on training Data:  100.0\n",
      "Mean Absolute error:  0.11944109589041095\n",
      "Mean Squared error:  0.034157369863013695\n",
      "Root Mean Squared error:  0.1848171254592325\n"
     ]
    }
   ],
   "source": [
    "decision_tree = DecisionTreeRegressor()\n",
    "decision_tree.fit(x_train_1, y_train_1)\n",
    "pred_decision_tree = decision_tree.predict(x_test_1)\n",
    "pred_train = decision_tree.predict(x_train_1)\n",
    "\n",
    "R2_Score_dt = r2_score(y_test_1, pred_decision_tree)*100\n",
    "R2_Score_training_dt = r2_score(y_train_1, pred_train)*100\n",
    "Mean_Absolute_error_dt = mean_absolute_error(y_test_1, pred_decision_tree)\n",
    "Mean_Squared_error_dt = mean_squared_error(y_test_1, pred_decision_tree)\n",
    "Root_Mean_Squared_error_dt =  np.sqrt(mean_squared_error(y_test_1, pred_decision_tree))\n",
    "\n",
    "print(decision_tree)\n",
    "print(\"R2_Score_dt: \", R2_Score_dt)\n",
    "print(\"R2_Score on training Data: \", R2_Score_training_dt)\n",
    "print(\"Mean Absolute error: \", Mean_Absolute_error_dt)\n",
    "print(\"Mean Squared error: \", Mean_Squared_error_dt)\n",
    "print(\"Root Mean Squared error: \", Root_Mean_Squared_error_dt)"
   ]
  },
  {
   "cell_type": "markdown",
   "id": "5d02a626",
   "metadata": {},
   "source": [
    "4. Logistic Regression:"
   ]
  },
  {
   "cell_type": "code",
   "execution_count": 49,
   "id": "31d516e8",
   "metadata": {},
   "outputs": [
    {
     "name": "stdout",
     "output_type": "stream",
     "text": [
      "LinearRegression()\n",
      "R2_Score_lo:  43.22296162219268\n",
      "R2_Score on training Data:  43.9886637479776\n",
      "Mean Absolute error:  0.23309321309780862\n",
      "Mean Squared error:  0.09122314709655925\n",
      "Root Mean Squared error:  0.30203169882739006\n"
     ]
    }
   ],
   "source": [
    "logreg = LinearRegression()\n",
    "logreg.fit(x_train_1, y_train_1)\n",
    "pred_logreg = logreg.predict(x_test_1)\n",
    "pred_train = logreg.predict(x_train_1)\n",
    "\n",
    "R2_Score_lo = r2_score(y_test_1, pred_logreg)*100\n",
    "R2_Score_training_lo = r2_score(y_train_1, pred_train)*100\n",
    "Mean_Absolute_error_lo = mean_absolute_error(y_test_1, pred_logreg)\n",
    "Mean_Squared_error_lo = mean_squared_error(y_test_1, pred_logreg)\n",
    "Root_Mean_Squared_error_lo =  np.sqrt(mean_squared_error(y_test_1, pred_logreg))\n",
    "\n",
    "print(logreg)\n",
    "print(\"R2_Score_lo: \", R2_Score_lo)\n",
    "print(\"R2_Score on training Data: \",R2_Score_training_lo)\n",
    "print(\"Mean Absolute error: \", Mean_Absolute_error_lo)\n",
    "print(\"Mean Squared error: \", Mean_Squared_error_lo)\n",
    "print(\"Root Mean Squared error: \", Root_Mean_Squared_error_lo)"
   ]
  },
  {
   "cell_type": "markdown",
   "id": "4e999a12",
   "metadata": {},
   "source": [
    "5. Gradient Boosting "
   ]
  },
  {
   "cell_type": "code",
   "execution_count": 50,
   "id": "6325714f",
   "metadata": {},
   "outputs": [
    {
     "name": "stdout",
     "output_type": "stream",
     "text": [
      "GradientBoostingRegressor()\n",
      "R2_Score_gbr:  74.20413782836455\n",
      "R2_Score on training Data:  76.33817442195246\n",
      "Mean Absolute error:  0.15406245360163193\n",
      "Mean Squared error:  0.041445975285062865\n",
      "Root Mean Squared error:  0.20358284624462558\n"
     ]
    }
   ],
   "source": [
    "GBR = GradientBoostingRegressor()\n",
    "GBR.fit(x_train_1, y_train_1)\n",
    "pred_GBR = GBR.predict(x_test_1)\n",
    "pred_train = GBR.predict(x_train_1)\n",
    "\n",
    "R2_Score_gbr = r2_score(y_test_1, pred_GBR)*100\n",
    "R2_Score_training_gbr = r2_score(y_train_1, pred_train)*100\n",
    "Mean_Absolute_error_gbr = mean_absolute_error(y_test_1, pred_GBR)\n",
    "Mean_Squared_error_gbr = mean_squared_error(y_test_1, pred_GBR)\n",
    "Root_Mean_Squared_error_gbr =  np.sqrt(mean_squared_error(y_test_1, pred_GBR))\n",
    "\n",
    "print(GBR)\n",
    "print(\"R2_Score_gbr: \", R2_Score_gbr)\n",
    "print(\"R2_Score on training Data: \", R2_Score_training_gbr)\n",
    "print(\"Mean Absolute error: \", Mean_Absolute_error_gbr)\n",
    "print(\"Mean Squared error: \", Mean_Squared_error_gbr)\n",
    "print(\"Root Mean Squared error: \", Root_Mean_Squared_error_gbr)"
   ]
  },
  {
   "cell_type": "markdown",
   "id": "bebebdab",
   "metadata": {},
   "source": [
    "6. Lasso"
   ]
  },
  {
   "cell_type": "code",
   "execution_count": 51,
   "id": "4f03e9d1",
   "metadata": {},
   "outputs": [
    {
     "name": "stdout",
     "output_type": "stream",
     "text": [
      "Lasso()\n",
      "R2_Score_las:  -258.634080848174\n",
      "R2_Score on training Data:  5.294794625253729\n",
      "Mean Absolute error:  0.314790210742163\n",
      "Mean Squared error:  0.15373814695275523\n",
      "Root Mean Squared error:  0.392094563788833\n"
     ]
    }
   ],
   "source": [
    "lass = Lasso()\n",
    "lass.fit(x_train_1, y_train_1)\n",
    "pred_lass = lass.predict(x_test_1)\n",
    "pred_train = lass.predict(x_train_1)\n",
    "\n",
    "R2_Score_las = r2_score(y_test, pred_lass)*100\n",
    "R2_Score_training_las = r2_score(y_train_1, pred_train)*100\n",
    "Mean_Absolute_error_las = mean_absolute_error(y_test_1, pred_lass)\n",
    "Mean_Squared_error_las =  mean_squared_error(y_test_1, pred_lass)\n",
    "Root_Mean_Squared_error_las = np.sqrt(mean_squared_error(y_test_1, pred_lass))\n",
    "\n",
    "print(lass)\n",
    "print(\"R2_Score_las: \", R2_Score_las)\n",
    "print(\"R2_Score on training Data: \", R2_Score_training_las)\n",
    "print(\"Mean Absolute error: \", Mean_Absolute_error_las)\n",
    "print(\"Mean Squared error: \", Mean_Squared_error_las)\n",
    "print(\"Root Mean Squared error: \", Root_Mean_Squared_error_las)"
   ]
  },
  {
   "cell_type": "markdown",
   "id": "a67f4800",
   "metadata": {},
   "source": [
    "7. Ridge"
   ]
  },
  {
   "cell_type": "code",
   "execution_count": 52,
   "id": "576e3f62",
   "metadata": {},
   "outputs": [
    {
     "name": "stdout",
     "output_type": "stream",
     "text": [
      "Ridge()\n",
      "R2_Score_rid:  43.22329073797023\n",
      "R2_Score on training Data:  43.9886601233263\n",
      "Mean Absolute error:  0.23309246327515903\n",
      "Mean Squared error:  0.0912226183092564\n",
      "Root Mean Squared error:  0.30203082344233745\n"
     ]
    }
   ],
   "source": [
    "rid = Ridge()\n",
    "rid .fit(x_train_1, y_train_1)\n",
    "pred_rid  = rid .predict(x_test_1)\n",
    "pred_train = rid .predict(x_train_1)\n",
    "\n",
    "R2_Score_rid = r2_score(y_test_1, pred_rid)*100\n",
    "R2_Score_training_rid = r2_score(y_train_1, pred_train)*100\n",
    "Mean_Absolute_error_rid = mean_absolute_error(y_test_1, pred_rid)\n",
    "Mean_Squared_error_rid =  mean_squared_error(y_test_1, pred_rid)\n",
    "Root_Mean_Squared_error_rid = np.sqrt(mean_squared_error(y_test_1, pred_rid))\n",
    "\n",
    "print(rid )\n",
    "print(\"R2_Score_rid: \", R2_Score_rid)\n",
    "print(\"R2_Score on training Data: \", R2_Score_training_rid)\n",
    "print(\"Mean Absolute error: \", Mean_Absolute_error_rid)\n",
    "print(\"Mean Squared error: \", Mean_Squared_error_rid)\n",
    "print(\"Root Mean Squared error: \", Root_Mean_Squared_error_rid)"
   ]
  },
  {
   "cell_type": "markdown",
   "id": "841360ad",
   "metadata": {},
   "source": [
    "8. SVR"
   ]
  },
  {
   "cell_type": "code",
   "execution_count": 53,
   "id": "4a3106cf",
   "metadata": {},
   "outputs": [
    {
     "name": "stdout",
     "output_type": "stream",
     "text": [
      "SVR()\n",
      "R2_Score_svr:  33.39325013892842\n",
      "R2_Score on training Data:  36.092892803831745\n",
      "Mean Absolute error:  0.24994853174959317\n",
      "Mean Squared error:  0.10701645442949419\n",
      "Root Mean Squared error:  0.32713369503842643\n"
     ]
    }
   ],
   "source": [
    "svr = SVR()\n",
    "svr.fit(x_train_1, y_train_1)\n",
    "pred_svr = svr.predict(x_test_1)\n",
    "pred_train = svr.predict(x_train_1)\n",
    "\n",
    "R2_Score_svr = r2_score(y_test_1, pred_svr)*100\n",
    "R2_Score_training_svr = r2_score(y_train_1, pred_train)*100\n",
    "Mean_Absolute_error_svr = mean_absolute_error(y_test_1, pred_svr)\n",
    "Mean_Squared_error_svr =  mean_squared_error(y_test_1, pred_svr)\n",
    "Root_Mean_Squared_error_svr = np.sqrt(mean_squared_error(y_test_1, pred_svr))\n",
    "\n",
    "print(svr)\n",
    "print(\"R2_Score_svr: \", R2_Score_svr)\n",
    "print(\"R2_Score on training Data: \", R2_Score_training_svr)\n",
    "print(\"Mean Absolute error: \", Mean_Absolute_error_svr)\n",
    "print(\"Mean Squared error: \", Mean_Squared_error_svr)\n",
    "print(\"Root Mean Squared error: \", Root_Mean_Squared_error_svr)"
   ]
  },
  {
   "cell_type": "code",
   "execution_count": 54,
   "id": "316d25f8",
   "metadata": {},
   "outputs": [
    {
     "data": {
      "text/html": [
       "<div>\n",
       "<style scoped>\n",
       "    .dataframe tbody tr th:only-of-type {\n",
       "        vertical-align: middle;\n",
       "    }\n",
       "\n",
       "    .dataframe tbody tr th {\n",
       "        vertical-align: top;\n",
       "    }\n",
       "\n",
       "    .dataframe thead th {\n",
       "        text-align: right;\n",
       "    }\n",
       "</style>\n",
       "<table border=\"1\" class=\"dataframe\">\n",
       "  <thead>\n",
       "    <tr style=\"text-align: right;\">\n",
       "      <th></th>\n",
       "      <th>Model</th>\n",
       "    </tr>\n",
       "    <tr>\n",
       "      <th>Score</th>\n",
       "      <th></th>\n",
       "    </tr>\n",
       "  </thead>\n",
       "  <tbody>\n",
       "    <tr>\n",
       "      <th>89.206144</th>\n",
       "      <td>Random Forest</td>\n",
       "    </tr>\n",
       "    <tr>\n",
       "      <th>78.740546</th>\n",
       "      <td>Decision Tree</td>\n",
       "    </tr>\n",
       "    <tr>\n",
       "      <th>74.204138</th>\n",
       "      <td>Gradient Boosting</td>\n",
       "    </tr>\n",
       "    <tr>\n",
       "      <th>60.848580</th>\n",
       "      <td>KNN</td>\n",
       "    </tr>\n",
       "    <tr>\n",
       "      <th>43.223291</th>\n",
       "      <td>Ridge</td>\n",
       "    </tr>\n",
       "    <tr>\n",
       "      <th>43.222962</th>\n",
       "      <td>Linear Regression</td>\n",
       "    </tr>\n",
       "    <tr>\n",
       "      <th>33.393250</th>\n",
       "      <td>SVR</td>\n",
       "    </tr>\n",
       "    <tr>\n",
       "      <th>-258.634081</th>\n",
       "      <td>Lasso</td>\n",
       "    </tr>\n",
       "  </tbody>\n",
       "</table>\n",
       "</div>"
      ],
      "text/plain": [
       "                         Model\n",
       "Score                         \n",
       " 89.206144       Random Forest\n",
       " 78.740546       Decision Tree\n",
       " 74.204138   Gradient Boosting\n",
       " 60.848580                 KNN\n",
       " 43.223291               Ridge\n",
       " 43.222962   Linear Regression\n",
       " 33.393250                 SVR\n",
       "-258.634081              Lasso"
      ]
     },
     "execution_count": 54,
     "metadata": {},
     "output_type": "execute_result"
    }
   ],
   "source": [
    "results = pd.DataFrame({\n",
    "    'Model': ['Random Forest', 'KNN', 'Decision Tree', \n",
    "              'Linear Regression', 'Gradient Boosting', 'Lasso', \n",
    "              'Ridge', 'SVR'],\n",
    "    'Score': [R2_Score_rf, R2_Score_kn, R2_Score_dt, \n",
    "              R2_Score_lo, R2_Score_gbr, R2_Score_las, \n",
    "             R2_Score_rid, R2_Score_svr]})\n",
    "result_df = results.sort_values(by='Score', ascending=False)\n",
    "result_df = result_df.set_index('Score')\n",
    "result_df.head(9)"
   ]
  },
  {
   "cell_type": "markdown",
   "id": "32e914ec",
   "metadata": {},
   "source": [
    "As we can see, Random Forest is ranked the first on the table with the highest R2 Score. Checking how Random Forest performs."
   ]
  },
  {
   "cell_type": "code",
   "execution_count": 55,
   "id": "ba0af719",
   "metadata": {},
   "outputs": [
    {
     "name": "stdout",
     "output_type": "stream",
     "text": [
      "RandomForestRegressor()\n",
      "R2_Score_rf:  89.25054422192513\n",
      "R2_Score on training Data:  98.47851355727644\n",
      "Mean Absolute error:  0.09199994520547944\n",
      "Mean Squared error:  0.01727105206027397\n",
      "Root Mean Squared error:  0.13141937475225626\n"
     ]
    }
   ],
   "source": [
    "random_forest = RandomForestRegressor()\n",
    "random_forest.fit(x_train_1, y_train_1)\n",
    "pred_random_forest = random_forest.predict(x_test_1)\n",
    "pred_train = random_forest.predict(x_train_1)\n",
    "\n",
    "\n",
    "R2_Score_rf = r2_score(y_test_1, pred_random_forest)*100\n",
    "R2_Score_training_rf = r2_score(y_train_1, pred_train)*100\n",
    "Mean_Absolute_error_rf = mean_absolute_error(y_test_1, pred_random_forest)\n",
    "Mean_Squared_error_rf = mean_squared_error(y_test_1, pred_random_forest)\n",
    "Root_Mean_Squared_error_rf= np.sqrt(mean_squared_error(y_test_1, pred_random_forest))\n",
    "\n",
    "print(random_forest)\n",
    "print(\"R2_Score_rf: \", R2_Score_rf)\n",
    "print(\"R2_Score on training Data: \", R2_Score_training_rf)\n",
    "print(\"Mean Absolute error: \", Mean_Absolute_error_rf)\n",
    "print(\"Mean Squared error: \", Mean_Squared_error_rf)\n",
    "print(\"Root Mean Squared error: \", Root_Mean_Squared_error_rf)"
   ]
  },
  {
   "cell_type": "code",
   "execution_count": 56,
   "id": "a2bd0a7f",
   "metadata": {},
   "outputs": [
    {
     "data": {
      "text/plain": [
       "['Avocado.pkl']"
      ]
     },
     "execution_count": 56,
     "metadata": {},
     "output_type": "execute_result"
    }
   ],
   "source": [
    "#Saving the best model\n",
    "import joblib\n",
    "joblib.dump(random_forest, \"Avocado.pkl\")"
   ]
  },
  {
   "cell_type": "code",
   "execution_count": 57,
   "id": "d2e40754",
   "metadata": {},
   "outputs": [],
   "source": [
    "import pickle\n",
    "filename = \"Avocado.pkl\"\n",
    "pickle.dump(random_forest, open(filename, 'wb'))"
   ]
  },
  {
   "cell_type": "code",
   "execution_count": 58,
   "id": "9e139947",
   "metadata": {},
   "outputs": [
    {
     "name": "stdout",
     "output_type": "stream",
     "text": [
      "89.25054422192513\n"
     ]
    }
   ],
   "source": [
    "load_model = pickle.load(open(\"Avocado.pkl\", 'rb'))\n",
    "result = load_model.score(x_test_1, y_test_1)\n",
    "print(result*100)"
   ]
  },
  {
   "cell_type": "code",
   "execution_count": 59,
   "id": "9c8ee28f",
   "metadata": {},
   "outputs": [
    {
     "name": "stdout",
     "output_type": "stream",
     "text": [
      "Predictions:\n",
      " [0.9935 0.9873 1.4275 ... 0.5999 1.7082 2.2127]\n"
     ]
    }
   ],
   "source": [
    "# PREDICTION OF TEST RESULT\n",
    "y_pred = random_forest.predict(x_test_1)\n",
    "print('Predictions:\\n', y_pred)"
   ]
  },
  {
   "cell_type": "code",
   "execution_count": 60,
   "id": "f9045caa",
   "metadata": {},
   "outputs": [
    {
     "name": "stdout",
     "output_type": "stream",
     "text": [
      "Actual test data vs predicted: \n",
      "        Actual  Predicted\n",
      "8604     0.82     0.9935\n",
      "2608     0.97     0.9873\n",
      "14581    1.44     1.4275\n",
      "4254     0.97     0.9090\n",
      "16588    1.45     1.4414\n",
      "...       ...        ...\n",
      "15956    1.27     1.2280\n",
      "12471    1.67     1.5914\n",
      "4574     0.59     0.5999\n",
      "16359    1.92     1.7082\n",
      "16249    1.79     2.2127\n",
      "\n",
      "[3650 rows x 2 columns]\n"
     ]
    }
   ],
   "source": [
    "# COMPARING TEST DATA AND PREDICTED DATA\n",
    "comparison_df = pd.DataFrame({\"Actual\":y_test_1,\"Predicted\":y_pred})\n",
    "print('Actual test data vs predicted: \\n', comparison_df)"
   ]
  },
  {
   "cell_type": "code",
   "execution_count": null,
   "id": "d0ce3bcb",
   "metadata": {},
   "outputs": [],
   "source": []
  }
 ],
 "metadata": {
  "kernelspec": {
   "display_name": "Python 3 (ipykernel)",
   "language": "python",
   "name": "python3"
  },
  "language_info": {
   "codemirror_mode": {
    "name": "ipython",
    "version": 3
   },
   "file_extension": ".py",
   "mimetype": "text/x-python",
   "name": "python",
   "nbconvert_exporter": "python",
   "pygments_lexer": "ipython3",
   "version": "3.11.3"
  }
 },
 "nbformat": 4,
 "nbformat_minor": 5
}
